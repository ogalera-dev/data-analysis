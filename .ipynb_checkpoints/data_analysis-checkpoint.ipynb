{
 "cells": [
  {
   "cell_type": "markdown",
   "metadata": {},
   "source": [
    "# Pokemon"
   ]
  },
  {
   "cell_type": "markdown",
   "metadata": {},
   "source": [
    "## Context"
   ]
  },
  {
   "cell_type": "markdown",
   "metadata": {},
   "source": [
    "Pokémon (ポケモン , Pokemon) és un dels videojocs que Satoshi Tajiri va crear per a diverses plataformes, especialment la Game Boy, i que gràcies a la seva popularitat va aconseguir expandir-se a altres mitjans d'entreteniment, com ara sèries de televisió, jocs de cartes i roba, convertint-se, així, en una marca comercial reconeguda al mercat mundial. Fins al dia 1 de desembre de 2006 havien arribat a 175 milions d'exemplars venuts (inclosa la versió Pikachu de la consola Nintendo 64), arribant a ocupar el segon lloc de les nissagues de videojocs més venudes de Nintendo.\n",
    "\n",
    "La saga Pokémon fou creada el 27 de febrer de 1996 al Japó. És desenvolupada per la companyia programadora de software japonesa Game Freak, amb els personatges creats per Satoshi Tajiri per a la companyia de joguines Creatures Inc., i alhora distribuïda i/o publicada per Nintendo. La missió dels protagonistes d'aquests jocs és capturar i entrenar els Pokémons, que actualment arriben a 806 tipus diferents. La possibilitat d'intercanviar-los amb altres usuaris va fer que la popularitat dels jocs de Pokémon augmentés i va provocar un èxit en les vendes de jocs de Pokémon, de televisió, de pel·lícules i marxandatges.\n",
    "\n",
    "![title](img/pokemon.jpg)"
   ]
  },
  {
   "cell_type": "markdown",
   "metadata": {},
   "source": [
    "## [1] Introducció\n",
    "\n",
    "En aquesta pràctica es volen analitzar les dades dels *Pokemons* per tal d'extreure informació característica que ens permeti amplicar el coneixement i entendre millor la relació que hi ha entre ells.\n",
    "\n",
    "\n",
    "Per això s'utilitzaràn dos datasets (obtinguts de la plataforma [Kaggle](https://www.kaggle.com/)) que es complementen i que tenen les dades necessàries per realitzar l'anàlisi que es vol dur a terme.\n",
    "\n",
    "### Dades\n",
    "\n",
    "Els *datasets* utilitzats són:\n",
    "* [Informació dels pokemons](https://www.kaggle.com/rounakbanik/pokemon)\n",
    "    * ***pokemon.csv:*** Fitxer que conté les dades dels *Pokemons* amb els camps:\n",
    "        * ***abilities***: Llista d'algunes de habilitats que pot adquirir. (Categòrica)\n",
    "        * ***against_?***: Debilitat respecte a un tipus concret (against_fire, against_electric, etc). (Numèrica)\n",
    "        * ***attack***: Punts d'atac. (Numèrica)\n",
    "        * ***base_egg_steps***: Nombre de passos requerits per a que l'ou del *Pokemon* eclosioni. (Numèrica)\n",
    "        * ***base_happiness***: Felicitat base. (Numèrica)\n",
    "        * ***capture_rate***: Probabilitat de captura. (Numèrica)\n",
    "        * ***classification***: Classificació del *Pokemon* segons la descripció de la *Pokedex* del joc Sol/Luna. (Categòrica)\n",
    "        * ***defense***: Punts defensa. (Numèrica)\n",
    "        * ***experience_growth***: Creixement d'experiència. (Numèrica)\n",
    "        * ***height_m***: Alçada en metres. (Numèrica)\n",
    "        * ***hp***: Punts de vida. (Numèrica)\n",
    "        * ***japanese_name***: Nom original Japonès. (Categòrica)\n",
    "        * ***name***: Nom del *Pokemon*. (Categòrica)\n",
    "        * ***percentage_male***: Percentatge de mascles. (Numèrica)\n",
    "        * ***pokedex_number***: Número de l'entrada en la *Pokedex*. (Numèrica)\n",
    "        * ***sp_attack***: Atac especial. (Numèrica)\n",
    "        * ***sp_defense***: Defensa especial. (Numèrica)\n",
    "        * ***speed***: Velocitat. (Numèrica)\n",
    "        * ***type1***: Tipus primari. (Categòrica)\n",
    "        * ***type2***: Tipus secundari. (Categòrica)\n",
    "        * ***weight_kg***: Pes en quilograms. (Numèrica)\n",
    "        * ***generation***: Primera generació en que va apareixer el *Pokemon*. (Categòrica)\n",
    "        * ***is_legendary***: Si és o no llegendari. (Categòrica)\n",
    "    \n",
    "    \n",
    "* [Informació de combats](https://www.kaggle.com/terminus7/pokemon-challenge)\n",
    "    * ***combats.csv:*** Fitxer que conté informació sobre combats hipotètics\n",
    "        * ***First_pokemon***: Identificador *Pokedex* del primer *Pokemon* del combat.\n",
    "        * ***Second_pokemon***: Identificador *Pokedex* del segon *Pokemon* del combat.\n",
    "        * ***Winner***: Identificador *Pokedex* del guanyador.\n",
    "\n",
    "### Què es vol aconseguir?\n",
    "\n",
    "Amb aquestes dades es vol donar resposta a la següents preguntes\n",
    "\n",
    "* Quants *Pokemons* hi ha a cada generació?\n",
    "* Quants són llegendaris i com es reparteixen entre les diferents generacions?\n",
    "* Quin dels llegendaris és el més fort i quin el més dèbil?\n",
    "* Com es distribueixen els tipus?\n",
    "* Quines combinacions de tipus (*type1* i *type2*) hi ha?\n",
    "* Com es distribueix el pes i quin és el Pokemon de menor i major pes (en Kg)?\n",
    "* Com es distribueix l'alçada i quin és el Pokemon de menor i major alçada (en m)?\n",
    "* Com es distribueix velocitat i quin és el Pokemon de menor i major velocitat?\n",
    "* Com es distribueix l'atac i defensa i quin és el Pokemon de menor i major atac i defensa?\n",
    "* Quin és el resultat de la comparació entre l'atac, l'atac especial, la defensa i la defensa especial base?\n",
    "* Es pot considerar que els Pokemon de tipus roca i foc tenen el mateix pes?\n",
    "\n",
    "Aquestes preguntes es poden contestar analitzant les dades del dataset *Informació dels Pokemons* (*pokemon.csv*), però es vol anar un pas més enllà i desenvolupar un model predictiu que sigui capaç de preedir quin *Pokemon* guanyaria un combat. Per això s'afegeix el dataset *Informació de combats* (*combats.csv*). \n",
    "\n",
    "Amb el model construit, es simularà un torneig amb 16 *Pokemons* i s'intentarà adivinar quin de tots ells seria el guanyador."
   ]
  },
  {
   "cell_type": "markdown",
   "metadata": {},
   "source": [
    "---\n",
    "\n",
    "## [2] Integració i selecció\n",
    "\n",
    "### Imports\n",
    "\n",
    "En aquesta pràctica s'utilitzaran les llibreries:\n",
    "\n",
    "* *pandas*: Per treballar amb *DataFrames* (internament usa *numpy*).\n",
    "* *matplotlib* i *seaborn*: Per fer els gràfics.\n",
    "* *missingno*: Per fer gràfics de valors mancants.\n",
    "* *scipy*: Per fer testos estadístics.\n",
    "* *scikit-learn*: Per construir els models predictius"
   ]
  },
  {
   "cell_type": "code",
   "execution_count": 1,
   "metadata": {},
   "outputs": [],
   "source": [
    "import numpy as np\n",
    "import pandas as pd\n",
    "from matplotlib import pyplot as plt\n",
    "import seaborn as sns\n",
    "#conda install -c conda-forge missingno\n",
    "import missingno as msno\n",
    "import scipy as sp\n",
    "\n",
    "path_folder = './datasets'"
   ]
  },
  {
   "cell_type": "markdown",
   "metadata": {},
   "source": [
    "### Carregar les dades\n",
    "#### Pokemon_info dataset"
   ]
  },
  {
   "cell_type": "code",
   "execution_count": 2,
   "metadata": {},
   "outputs": [
    {
     "ename": "FileNotFoundError",
     "evalue": "[Errno 2] File b'../datasets/pokemon.csv' does not exist: b'../datasets/pokemon.csv'",
     "output_type": "error",
     "traceback": [
      "\u001b[0;31m---------------------------------------------------------------------------\u001b[0m",
      "\u001b[0;31mFileNotFoundError\u001b[0m                         Traceback (most recent call last)",
      "\u001b[0;32m<ipython-input-2-9449cb7247a6>\u001b[0m in \u001b[0;36m<module>\u001b[0;34m\u001b[0m\n\u001b[0;32m----> 1\u001b[0;31m \u001b[0mpokemon_info_df\u001b[0m \u001b[0;34m=\u001b[0m \u001b[0mpd\u001b[0m\u001b[0;34m.\u001b[0m\u001b[0mread_csv\u001b[0m\u001b[0;34m(\u001b[0m\u001b[0mpath_folder\u001b[0m\u001b[0;34m+\u001b[0m\u001b[0;34m'/pokemon.csv'\u001b[0m\u001b[0;34m)\u001b[0m\u001b[0;34m\u001b[0m\u001b[0;34m\u001b[0m\u001b[0m\n\u001b[0m\u001b[1;32m      2\u001b[0m \u001b[0;34m\u001b[0m\u001b[0m\n\u001b[1;32m      3\u001b[0m \u001b[0;31m#Dimensions del DF (files, columnes)\u001b[0m\u001b[0;34m\u001b[0m\u001b[0;34m\u001b[0m\u001b[0;34m\u001b[0m\u001b[0m\n\u001b[1;32m      4\u001b[0m \u001b[0mprint\u001b[0m\u001b[0;34m(\u001b[0m\u001b[0mpokemon_info_df\u001b[0m\u001b[0;34m.\u001b[0m\u001b[0mshape\u001b[0m\u001b[0;34m)\u001b[0m\u001b[0;34m\u001b[0m\u001b[0;34m\u001b[0m\u001b[0m\n",
      "\u001b[0;32m~/.conda/envs/uoc/lib/python3.7/site-packages/pandas/io/parsers.py\u001b[0m in \u001b[0;36mparser_f\u001b[0;34m(filepath_or_buffer, sep, delimiter, header, names, index_col, usecols, squeeze, prefix, mangle_dupe_cols, dtype, engine, converters, true_values, false_values, skipinitialspace, skiprows, skipfooter, nrows, na_values, keep_default_na, na_filter, verbose, skip_blank_lines, parse_dates, infer_datetime_format, keep_date_col, date_parser, dayfirst, cache_dates, iterator, chunksize, compression, thousands, decimal, lineterminator, quotechar, quoting, doublequote, escapechar, comment, encoding, dialect, error_bad_lines, warn_bad_lines, delim_whitespace, low_memory, memory_map, float_precision)\u001b[0m\n\u001b[1;32m    683\u001b[0m         )\n\u001b[1;32m    684\u001b[0m \u001b[0;34m\u001b[0m\u001b[0m\n\u001b[0;32m--> 685\u001b[0;31m         \u001b[0;32mreturn\u001b[0m \u001b[0m_read\u001b[0m\u001b[0;34m(\u001b[0m\u001b[0mfilepath_or_buffer\u001b[0m\u001b[0;34m,\u001b[0m \u001b[0mkwds\u001b[0m\u001b[0;34m)\u001b[0m\u001b[0;34m\u001b[0m\u001b[0;34m\u001b[0m\u001b[0m\n\u001b[0m\u001b[1;32m    686\u001b[0m \u001b[0;34m\u001b[0m\u001b[0m\n\u001b[1;32m    687\u001b[0m     \u001b[0mparser_f\u001b[0m\u001b[0;34m.\u001b[0m\u001b[0m__name__\u001b[0m \u001b[0;34m=\u001b[0m \u001b[0mname\u001b[0m\u001b[0;34m\u001b[0m\u001b[0;34m\u001b[0m\u001b[0m\n",
      "\u001b[0;32m~/.conda/envs/uoc/lib/python3.7/site-packages/pandas/io/parsers.py\u001b[0m in \u001b[0;36m_read\u001b[0;34m(filepath_or_buffer, kwds)\u001b[0m\n\u001b[1;32m    455\u001b[0m \u001b[0;34m\u001b[0m\u001b[0m\n\u001b[1;32m    456\u001b[0m     \u001b[0;31m# Create the parser.\u001b[0m\u001b[0;34m\u001b[0m\u001b[0;34m\u001b[0m\u001b[0;34m\u001b[0m\u001b[0m\n\u001b[0;32m--> 457\u001b[0;31m     \u001b[0mparser\u001b[0m \u001b[0;34m=\u001b[0m \u001b[0mTextFileReader\u001b[0m\u001b[0;34m(\u001b[0m\u001b[0mfp_or_buf\u001b[0m\u001b[0;34m,\u001b[0m \u001b[0;34m**\u001b[0m\u001b[0mkwds\u001b[0m\u001b[0;34m)\u001b[0m\u001b[0;34m\u001b[0m\u001b[0;34m\u001b[0m\u001b[0m\n\u001b[0m\u001b[1;32m    458\u001b[0m \u001b[0;34m\u001b[0m\u001b[0m\n\u001b[1;32m    459\u001b[0m     \u001b[0;32mif\u001b[0m \u001b[0mchunksize\u001b[0m \u001b[0;32mor\u001b[0m \u001b[0miterator\u001b[0m\u001b[0;34m:\u001b[0m\u001b[0;34m\u001b[0m\u001b[0;34m\u001b[0m\u001b[0m\n",
      "\u001b[0;32m~/.conda/envs/uoc/lib/python3.7/site-packages/pandas/io/parsers.py\u001b[0m in \u001b[0;36m__init__\u001b[0;34m(self, f, engine, **kwds)\u001b[0m\n\u001b[1;32m    893\u001b[0m             \u001b[0mself\u001b[0m\u001b[0;34m.\u001b[0m\u001b[0moptions\u001b[0m\u001b[0;34m[\u001b[0m\u001b[0;34m\"has_index_names\"\u001b[0m\u001b[0;34m]\u001b[0m \u001b[0;34m=\u001b[0m \u001b[0mkwds\u001b[0m\u001b[0;34m[\u001b[0m\u001b[0;34m\"has_index_names\"\u001b[0m\u001b[0;34m]\u001b[0m\u001b[0;34m\u001b[0m\u001b[0;34m\u001b[0m\u001b[0m\n\u001b[1;32m    894\u001b[0m \u001b[0;34m\u001b[0m\u001b[0m\n\u001b[0;32m--> 895\u001b[0;31m         \u001b[0mself\u001b[0m\u001b[0;34m.\u001b[0m\u001b[0m_make_engine\u001b[0m\u001b[0;34m(\u001b[0m\u001b[0mself\u001b[0m\u001b[0;34m.\u001b[0m\u001b[0mengine\u001b[0m\u001b[0;34m)\u001b[0m\u001b[0;34m\u001b[0m\u001b[0;34m\u001b[0m\u001b[0m\n\u001b[0m\u001b[1;32m    896\u001b[0m \u001b[0;34m\u001b[0m\u001b[0m\n\u001b[1;32m    897\u001b[0m     \u001b[0;32mdef\u001b[0m \u001b[0mclose\u001b[0m\u001b[0;34m(\u001b[0m\u001b[0mself\u001b[0m\u001b[0;34m)\u001b[0m\u001b[0;34m:\u001b[0m\u001b[0;34m\u001b[0m\u001b[0;34m\u001b[0m\u001b[0m\n",
      "\u001b[0;32m~/.conda/envs/uoc/lib/python3.7/site-packages/pandas/io/parsers.py\u001b[0m in \u001b[0;36m_make_engine\u001b[0;34m(self, engine)\u001b[0m\n\u001b[1;32m   1133\u001b[0m     \u001b[0;32mdef\u001b[0m \u001b[0m_make_engine\u001b[0m\u001b[0;34m(\u001b[0m\u001b[0mself\u001b[0m\u001b[0;34m,\u001b[0m \u001b[0mengine\u001b[0m\u001b[0;34m=\u001b[0m\u001b[0;34m\"c\"\u001b[0m\u001b[0;34m)\u001b[0m\u001b[0;34m:\u001b[0m\u001b[0;34m\u001b[0m\u001b[0;34m\u001b[0m\u001b[0m\n\u001b[1;32m   1134\u001b[0m         \u001b[0;32mif\u001b[0m \u001b[0mengine\u001b[0m \u001b[0;34m==\u001b[0m \u001b[0;34m\"c\"\u001b[0m\u001b[0;34m:\u001b[0m\u001b[0;34m\u001b[0m\u001b[0;34m\u001b[0m\u001b[0m\n\u001b[0;32m-> 1135\u001b[0;31m             \u001b[0mself\u001b[0m\u001b[0;34m.\u001b[0m\u001b[0m_engine\u001b[0m \u001b[0;34m=\u001b[0m \u001b[0mCParserWrapper\u001b[0m\u001b[0;34m(\u001b[0m\u001b[0mself\u001b[0m\u001b[0;34m.\u001b[0m\u001b[0mf\u001b[0m\u001b[0;34m,\u001b[0m \u001b[0;34m**\u001b[0m\u001b[0mself\u001b[0m\u001b[0;34m.\u001b[0m\u001b[0moptions\u001b[0m\u001b[0;34m)\u001b[0m\u001b[0;34m\u001b[0m\u001b[0;34m\u001b[0m\u001b[0m\n\u001b[0m\u001b[1;32m   1136\u001b[0m         \u001b[0;32melse\u001b[0m\u001b[0;34m:\u001b[0m\u001b[0;34m\u001b[0m\u001b[0;34m\u001b[0m\u001b[0m\n\u001b[1;32m   1137\u001b[0m             \u001b[0;32mif\u001b[0m \u001b[0mengine\u001b[0m \u001b[0;34m==\u001b[0m \u001b[0;34m\"python\"\u001b[0m\u001b[0;34m:\u001b[0m\u001b[0;34m\u001b[0m\u001b[0;34m\u001b[0m\u001b[0m\n",
      "\u001b[0;32m~/.conda/envs/uoc/lib/python3.7/site-packages/pandas/io/parsers.py\u001b[0m in \u001b[0;36m__init__\u001b[0;34m(self, src, **kwds)\u001b[0m\n\u001b[1;32m   1915\u001b[0m         \u001b[0mkwds\u001b[0m\u001b[0;34m[\u001b[0m\u001b[0;34m\"usecols\"\u001b[0m\u001b[0;34m]\u001b[0m \u001b[0;34m=\u001b[0m \u001b[0mself\u001b[0m\u001b[0;34m.\u001b[0m\u001b[0musecols\u001b[0m\u001b[0;34m\u001b[0m\u001b[0;34m\u001b[0m\u001b[0m\n\u001b[1;32m   1916\u001b[0m \u001b[0;34m\u001b[0m\u001b[0m\n\u001b[0;32m-> 1917\u001b[0;31m         \u001b[0mself\u001b[0m\u001b[0;34m.\u001b[0m\u001b[0m_reader\u001b[0m \u001b[0;34m=\u001b[0m \u001b[0mparsers\u001b[0m\u001b[0;34m.\u001b[0m\u001b[0mTextReader\u001b[0m\u001b[0;34m(\u001b[0m\u001b[0msrc\u001b[0m\u001b[0;34m,\u001b[0m \u001b[0;34m**\u001b[0m\u001b[0mkwds\u001b[0m\u001b[0;34m)\u001b[0m\u001b[0;34m\u001b[0m\u001b[0;34m\u001b[0m\u001b[0m\n\u001b[0m\u001b[1;32m   1918\u001b[0m         \u001b[0mself\u001b[0m\u001b[0;34m.\u001b[0m\u001b[0munnamed_cols\u001b[0m \u001b[0;34m=\u001b[0m \u001b[0mself\u001b[0m\u001b[0;34m.\u001b[0m\u001b[0m_reader\u001b[0m\u001b[0;34m.\u001b[0m\u001b[0munnamed_cols\u001b[0m\u001b[0;34m\u001b[0m\u001b[0;34m\u001b[0m\u001b[0m\n\u001b[1;32m   1919\u001b[0m \u001b[0;34m\u001b[0m\u001b[0m\n",
      "\u001b[0;32mpandas/_libs/parsers.pyx\u001b[0m in \u001b[0;36mpandas._libs.parsers.TextReader.__cinit__\u001b[0;34m()\u001b[0m\n",
      "\u001b[0;32mpandas/_libs/parsers.pyx\u001b[0m in \u001b[0;36mpandas._libs.parsers.TextReader._setup_parser_source\u001b[0;34m()\u001b[0m\n",
      "\u001b[0;31mFileNotFoundError\u001b[0m: [Errno 2] File b'../datasets/pokemon.csv' does not exist: b'../datasets/pokemon.csv'"
     ]
    }
   ],
   "source": [
    "pokemon_info_df = pd.read_csv(path_folder+'/pokemon.csv')\n",
    "\n",
    "#Dimensions del DF (files, columnes)\n",
    "print(pokemon_info_df.shape)"
   ]
  },
  {
   "cell_type": "markdown",
   "metadata": {},
   "source": [
    "Hi ha **42 variables** i **801 registres**.\n",
    "\n",
    "Quins són els diferents tipus de variables?"
   ]
  },
  {
   "cell_type": "code",
   "execution_count": null,
   "metadata": {},
   "outputs": [],
   "source": [
    "print(pokemon_info_df.dtypes.unique())"
   ]
  },
  {
   "cell_type": "markdown",
   "metadata": {},
   "source": [
    "Hi ha variables de tipus: \n",
    "\n",
    "* ***O***: Categòrica.\n",
    "* ***float64***: Real.\n",
    "* ***int64***: Enter.\n",
    "\n",
    "De quin tipus és cada variable?"
   ]
  },
  {
   "cell_type": "code",
   "execution_count": null,
   "metadata": {},
   "outputs": [],
   "source": [
    "#Variables\n",
    "print(pokemon_info_df.dtypes)"
   ]
  },
  {
   "cell_type": "markdown",
   "metadata": {},
   "source": [
    "Distribució del tipus de les variables."
   ]
  },
  {
   "cell_type": "code",
   "execution_count": null,
   "metadata": {},
   "outputs": [],
   "source": [
    "pd.value_counts(pokemon_info_df.dtypes).plot.bar()"
   ]
  },
  {
   "cell_type": "markdown",
   "metadata": {},
   "source": [
    "**Nota:** Com es pot veure, hi ha moltes variables de tipus ***float64*** i ***int64***, es probable que donat el domini d'aquestes variables, es pogués canviar el tipus a **float32** i **int32** per així reduir la quantitat de memòria utilitzada.\n",
    "\n",
    "#### Selecció de variables\n",
    "\n",
    "A partir de les preguntes plantejades en el primer apartat, per aquest *dataset* es seleccionen les variables:\n",
    "\n",
    "* name\n",
    "* pokedex_number\n",
    "* generation\n",
    "* type1\n",
    "* type2\n",
    "* is_legendary\n",
    "* attack\n",
    "* sp_attack\n",
    "* defense\n",
    "* sp_defense\n",
    "* speed\n",
    "* hp\n",
    "* height_m\n",
    "* wegiht_kg\n",
    "* against_?"
   ]
  },
  {
   "cell_type": "code",
   "execution_count": null,
   "metadata": {},
   "outputs": [],
   "source": [
    "pokemon_info_df = pokemon_info_df[[\"name\",\"pokedex_number\",\\\n",
    "                 \"generation\",\"type1\",\"type2\",\\\n",
    "                 \"is_legendary\",\"attack\",\"sp_attack\",\\\n",
    "                 \"defense\",\"sp_defense\",\"speed\",\\\n",
    "                 \"hp\",\"height_m\",\"weight_kg\",\\\n",
    "                 \"against_bug\",\"against_dark\",\"against_dragon\",\\\n",
    "                 \"against_electric\", \"against_fairy\", \"against_fight\",\\\n",
    "                 \"against_fire\", \"against_flying\", \"against_ghost\",\\\n",
    "                 \"against_grass\", \"against_ground\", \"against_ice\",\\\n",
    "                 \"against_normal\", \"against_poison\", \"against_psychic\",\\\n",
    "                 \"against_rock\", \"against_steel\", \"against_water\"]]"
   ]
  },
  {
   "cell_type": "markdown",
   "metadata": {},
   "source": [
    "### *pokemon_battles dataset*"
   ]
  },
  {
   "cell_type": "code",
   "execution_count": null,
   "metadata": {},
   "outputs": [],
   "source": [
    "pokemon_battles_df = pd.read_csv(path_folder+'/combats.csv')\n",
    "\n",
    "print(pokemon_battles_df.shape)"
   ]
  },
  {
   "cell_type": "markdown",
   "metadata": {},
   "source": [
    "Hi ha **38,743 registres** i **3 variables.**\n",
    "\n",
    "De quin tipus són?"
   ]
  },
  {
   "cell_type": "code",
   "execution_count": null,
   "metadata": {},
   "outputs": [],
   "source": [
    "print(pokemon_battles_df.dtypes.unique())"
   ]
  },
  {
   "cell_type": "code",
   "execution_count": null,
   "metadata": {},
   "outputs": [],
   "source": [
    "print(pokemon_battles_df.dtypes)"
   ]
  },
  {
   "cell_type": "markdown",
   "metadata": {},
   "source": [
    "**Nota:** Totes les variables són enteres (*int64*).\n",
    "\n",
    "#### Selecció de variables\n",
    "\n",
    "En aquest *dataset* són necessaries totes les variables, i per tant, no es fa cap selecció."
   ]
  },
  {
   "cell_type": "markdown",
   "metadata": {},
   "source": [
    "---\n",
    "\n",
    "## [3] Neteja de les dades\n",
    "\n",
    "Un cop es coneixen les variables de les quals es disposa per l'anàlisi i el seu tipus, és important explorar quines d'aquestes variables tenen valors mancants i si això fa que deixin de ser útils."
   ]
  },
  {
   "cell_type": "code",
   "execution_count": null,
   "metadata": {},
   "outputs": [],
   "source": [
    "#Hi ha algún camp en tot el DF que tingui un valor mancant?\n",
    "print(pokemon_info_df.isnull().values.any())"
   ]
  },
  {
   "cell_type": "markdown",
   "metadata": {},
   "source": [
    "### Valors mancants\n",
    "\n",
    "Quins camps tenen valors mancants?"
   ]
  },
  {
   "cell_type": "code",
   "execution_count": null,
   "metadata": {},
   "outputs": [],
   "source": [
    "pokemon_info_mv_list = pokemon_info_df.columns[pokemon_info_df.isnull().any()].tolist()\n",
    "print(pokemon_info_mv_list)"
   ]
  },
  {
   "cell_type": "markdown",
   "metadata": {},
   "source": [
    "Les variables: **height_m**, **percentage_male**, **type2**, **weight_kg** tenen valors mancants, però quants registres estan afectats?"
   ]
  },
  {
   "cell_type": "code",
   "execution_count": null,
   "metadata": {},
   "outputs": [],
   "source": [
    "def missing_values(df, fields):\n",
    "    n_rows = df.shape[0]\n",
    "    for field in fields:\n",
    "        n_missing_values = df[field].isnull().sum()\n",
    "        print(\"%s: %d (%.3f)\" % (field, n_missing_values, n_missing_values/n_rows))"
   ]
  },
  {
   "cell_type": "code",
   "execution_count": null,
   "metadata": {},
   "outputs": [],
   "source": [
    "msno.bar(pokemon_info_df[pokemon_info_mv_list], color=\"#b2ff54\", labels=True)"
   ]
  },
  {
   "cell_type": "markdown",
   "metadata": {},
   "source": [
    "Com es distribueixen els valors mancants en funció de l'ordre del *Pokemon* imputat per la *Pokedex*?"
   ]
  },
  {
   "cell_type": "code",
   "execution_count": null,
   "metadata": {},
   "outputs": [],
   "source": [
    "msno.matrix(pokemon_info_df[pokemon_info_mv_list])"
   ]
  },
  {
   "cell_type": "markdown",
   "metadata": {},
   "source": [
    "La variable **height_m** té 20 registres sense valor (2.5%), **type2** 384 (48%) i **weight_kg** 20 (2.5%)"
   ]
  },
  {
   "cell_type": "markdown",
   "metadata": {},
   "source": [
    "### Imputar els valors perduts\n",
    "\n",
    "Per tal d'imputar correctament els valors perduts, cal primer observar els altres valors per cada una d'aquestes variables. Així que anem a veure quins valors diferents hi ha per cada variable.\n",
    "\n",
    "**type2**"
   ]
  },
  {
   "cell_type": "code",
   "execution_count": null,
   "metadata": {},
   "outputs": [],
   "source": [
    "print(pokemon_info_df[pokemon_info_df['type2'].notnull()]['type2'].unique())"
   ]
  },
  {
   "cell_type": "markdown",
   "metadata": {},
   "source": [
    "Com es pot veure, hi ha 18 tipus de Pokemon diferents en la variable **type2**. \n",
    "\n",
    "**Com que es tracta d'una variable arbitraria definida pel dissenyador del *Pokemon*, no té cap sentit imputar un valor en base a la similitud que té amb els altres *Pokemons*, i per això, es decideix assignar l'etiqueta arbitrària (*unknown*) per distingir valor mancants.**"
   ]
  },
  {
   "cell_type": "code",
   "execution_count": null,
   "metadata": {},
   "outputs": [],
   "source": [
    "pokemon_info_df['type2'].fillna('unknown', inplace=True)"
   ]
  },
  {
   "cell_type": "markdown",
   "metadata": {},
   "source": [
    "**height_m**\n",
    "\n",
    "Com que només hi ha un 20 registres sense valor per aquesta variable i el nombre de registres és molt superior a 50, es poden descartar. Per fer-ho assignem el valor 0, i així es remarca que la dada no existeix perquè no té sentit un *Pokemon* que no tingui alçada.\n",
    "\n",
    "**Nota:** En cas que el nombre de registres fos inferior a 50, es podria implementar una solució basada en crear un **model de regressió lineal simple** on la **variable a preedir** fos l'**alçada** i la **variable predictora** el **pes**. Aquesta predicció es podria fer a agrupant els *Pokemons* pel seu tipus i només per aquells on el factor de correlació de *Pearson* fos superior a 0,7 o inferior a -0,7."
   ]
  },
  {
   "cell_type": "code",
   "execution_count": null,
   "metadata": {},
   "outputs": [],
   "source": [
    "pokemon_info_df['height_m'].fillna(np.int(0), inplace=True)"
   ]
  },
  {
   "cell_type": "markdown",
   "metadata": {},
   "source": [
    "**weight_kg**\n",
    "\n",
    "Igual que amb la variable **height_m**\n"
   ]
  },
  {
   "cell_type": "code",
   "execution_count": null,
   "metadata": {},
   "outputs": [],
   "source": [
    "pokemon_info_df['weight_kg'].fillna(np.int(0), inplace=True)"
   ]
  },
  {
   "cell_type": "markdown",
   "metadata": {},
   "source": [
    "Ara es pot comprovar que no hi ha cap valor *na* en tot el *dataset*"
   ]
  },
  {
   "cell_type": "code",
   "execution_count": null,
   "metadata": {},
   "outputs": [],
   "source": [
    "print(pokemon_info_df.columns[pokemon_info_df.isnull().any()].tolist() == [])"
   ]
  },
  {
   "cell_type": "markdown",
   "metadata": {},
   "source": [
    "### Dades extremes\n",
    "\n",
    "Les dades extremes o *outliers* són aquelles que estàn fora del rang que es pot considerar normal per una variable numèrica. Hi ha diferents maneres de detectar les dades extremes, un dels més comuns és considerar com a tal a totes aquelles dades inferiors a *Q1* - 1.5 * *RIQ* o superior a *Q3* + 1.5 * *RIQ*.\n",
    "\n",
    "L'anàlisi de dades extremes es farà sobre les variables: *attack*, *sp_attack*, *defense*, *sp_defense*, *speed*, *hp*, *height_m* i *weight_kg*"
   ]
  },
  {
   "cell_type": "code",
   "execution_count": null,
   "metadata": {},
   "outputs": [],
   "source": [
    "def print_min_max(var):\n",
    "    data = pokemon_info_df[var]\n",
    "    data = sorted(data)\n",
    "    q1, q2, q3 = np.percentile(data, [25,50,75])\n",
    "    iqr = q3 - q1\n",
    "    lower_bound = q1 - (1.5 * iqr)\n",
    "    upper_bound = q3 + (1.5 * iqr)\n",
    "    data_pd = pokemon_info_df[var]\n",
    "    outliers = data_pd[(data_pd < lower_bound) | (data_pd > upper_bound)]\n",
    "    print(\"{} - mínim: {}, mediana: {}, màxim: {}, number of outliers: {}\".format(var, min(pokemon_info_df[var])\\\n",
    "                                                                 ,q2\\\n",
    "                                                                 , max(pokemon_info_df[var])\\\n",
    "                                                                 , len(outliers)))\n",
    "    \n",
    "print_min_max(\"attack\")\n",
    "print_min_max(\"sp_attack\")\n",
    "print_min_max(\"defense\")\n",
    "print_min_max(\"sp_defense\")\n",
    "print_min_max(\"speed\")\n",
    "print_min_max(\"hp\")\n",
    "print_min_max(\"weight_kg\")\n",
    "print_min_max(\"height_m\")"
   ]
  },
  {
   "cell_type": "markdown",
   "metadata": {},
   "source": [
    "Una manera de representar aquesta informació és a través de diagrames de caixa o *boxplots*"
   ]
  },
  {
   "cell_type": "code",
   "execution_count": null,
   "metadata": {},
   "outputs": [],
   "source": [
    "plt.subplots(figsize=(15,10))\n",
    "sns.boxplot(data=pokemon_info_df[['attack', 'sp_attack', 'defense', 'sp_defense', 'speed', \\\n",
    "                                  'hp', 'weight_kg', 'height_m']], orient='v')"
   ]
  },
  {
   "cell_type": "markdown",
   "metadata": {},
   "source": [
    "De les variables analitzades, totes tenen relativament poques dades atípiques i les que en tenen no són molt pronunciats a excepció de la variable *weight_kg*, com que aquesta variable no s'usarà en la construcció del model predictiu, s'ha decidit assumir el risc de treballar amb les dades extremes i no eliminar-les del conjunt.\n",
    "\n",
    "### Guardar les dades preprocessades\n",
    "\n",
    "Un cop finalitzada l'etapa de integració, filtrat i nateja de dades, es guarda en un fitxer intermig anomenat *pokemon_clean_data.csv*"
   ]
  },
  {
   "cell_type": "code",
   "execution_count": null,
   "metadata": {},
   "outputs": [],
   "source": [
    "pokemon_info_df.to_csv(path_folder+'/pokemon_clean_data.csv')"
   ]
  },
  {
   "cell_type": "markdown",
   "metadata": {},
   "source": [
    "## [4, 5]. Anàlisi descriptiu"
   ]
  },
  {
   "cell_type": "markdown",
   "metadata": {},
   "source": [
    "### Generacions\n",
    "\n",
    "Quantes generacions hi ha?"
   ]
  },
  {
   "cell_type": "code",
   "execution_count": null,
   "metadata": {},
   "outputs": [],
   "source": [
    "print(\"Hi ha %d generacions de Pokemons\" %(pokemon_info_df[\"generation\"].nunique()))"
   ]
  },
  {
   "cell_type": "markdown",
   "metadata": {},
   "source": [
    "#### Distribució dels *Pokemons* en base a la generació\n",
    "\n",
    "Com es distribueixen els Pokemons en base a la primera generació en que van apareixre?"
   ]
  },
  {
   "cell_type": "code",
   "execution_count": null,
   "metadata": {},
   "outputs": [],
   "source": [
    "fig, (ax1, ax2) = plt.subplots(1, 2, figsize=(15, 5))\n",
    "\n",
    "#Diagrama de barres\n",
    "sns.countplot(x=\"generation\", data=pokemon_info_df, ax=ax1)\n",
    "\n",
    "#Diagrama de sectors\n",
    "sector_diagram = pd.value_counts(pokemon_info_df.generation)\n",
    "sector_diagram.plot.pie(startangle=90, autopct='%1.1f%%', shadow=False, \n",
    "                        explode=(0.05, 0.05, 0.05, 0.05, 0.05, 0.05, 0.05), ax=ax2)\n",
    "plt.axis(\"equal\")"
   ]
  },
  {
   "cell_type": "markdown",
   "metadata": {},
   "source": [
    "Quines són les tres generacions on van apareixer més Pokemons?"
   ]
  },
  {
   "cell_type": "code",
   "execution_count": null,
   "metadata": {},
   "outputs": [],
   "source": [
    "print(\"5na generació -> %d Pokemons\"%(len(pokemon_info_df[pokemon_info_df[\"generation\"] == 5])))\n",
    "print(\"1ra generació -> %d Pokemons\"%(len(pokemon_info_df[pokemon_info_df[\"generation\"] == 1])))\n",
    "print(\"3era generació -> %d Pokemons\"%(len(pokemon_info_df[pokemon_info_df[\"generation\"] == 3])))"
   ]
  },
  {
   "cell_type": "markdown",
   "metadata": {},
   "source": [
    "La generació amb més Pokemons és la **5na** amb **156 (19,5%)**, seguidament de la **1era** generació amb **151 (18,9%)** i finalment la **3era** generació amb **135 Pokemons (16,9%)**. Entre aquestes tres generacions hi ha el **55,3%** del total de *Pokemons*."
   ]
  },
  {
   "cell_type": "markdown",
   "metadata": {},
   "source": [
    "### Pokemons llegendaris\n",
    "\n",
    "Hi ha *Pokemons* que despunten per sobre de la resta degut a les seves característiques especials. Sovint estan relacionats amb llegendes del passat i per això se'ls coneix com a llegendàris. Què podem dir al respecte d'aquests *Pokemons*?\n",
    "\n",
    "#### Quants Pokemons llegendaris hi ha?"
   ]
  },
  {
   "cell_type": "code",
   "execution_count": null,
   "metadata": {},
   "outputs": [],
   "source": [
    "print(\"Nombre total de Pokemons llegendaris: {}\".format(len(pokemon_info_df[pokemon_info_df[\"is_legendary\"] == True])))"
   ]
  },
  {
   "cell_type": "markdown",
   "metadata": {},
   "source": [
    "En total hi ha **70 Pokemons llegendaris.**\n",
    "\n",
    "#### Distribució dels *Pokemons* llegendaris\n",
    "\n",
    "En quines edicions apareixen aquests Pokemons?"
   ]
  },
  {
   "cell_type": "code",
   "execution_count": null,
   "metadata": {},
   "outputs": [],
   "source": [
    "pokemon_legendary_df = pokemon_info_df[pokemon_info_df[\"is_legendary\"] == True]\n",
    "fig, (ax1, ax2) = plt.subplots(1, 2, figsize=(15, 5))\n",
    "\n",
    "#Diagrama de barres\n",
    "sns.countplot(x=\"generation\", data=pokemon_legendary_df, ax=ax1)\n",
    "\n",
    "#Diagrama de sectors\n",
    "sector_diagram = pd.value_counts(pokemon_legendary_df.generation)\n",
    "sector_diagram.plot.pie(startangle=90, autopct='%1.1f%%', shadow=False, \n",
    "                        explode=(0.05, 0.05, 0.05, 0.05, 0.05, 0.05, 0.05), ax=ax2)\n",
    "plt.axis(\"equal\")"
   ]
  },
  {
   "cell_type": "code",
   "execution_count": null,
   "metadata": {},
   "outputs": [],
   "source": [
    "print(\"7na generació -> %d Pokemons\"%(len(pokemon_legendary_df[pokemon_legendary_df[\"generation\"] == 7])))\n",
    "print(\"4rta generació -> %d Pokemons\"%(len(pokemon_legendary_df[pokemon_legendary_df[\"generation\"] == 4])))\n",
    "print(\"5na generació -> %d Pokemons\"%(len(pokemon_legendary_df[pokemon_legendary_df[\"generation\"] == 5])))"
   ]
  },
  {
   "cell_type": "markdown",
   "metadata": {},
   "source": [
    "La **7na generació** té **17 Pokemons llegendaris (24,3%)**, la **4rta** en té **13 (18,6%)** i la **5na 13**. Entre **aquestes tres generacions** hi ha un **61,5% de Pokemons llegendaris**.\n",
    "\n",
    "#### Tipus dels *Pokemons* llegendaris\n",
    "\n",
    "Quin són els tipus (*type1* i *type2*) que predominen en els *Pokemons* llegendaris?"
   ]
  },
  {
   "cell_type": "code",
   "execution_count": null,
   "metadata": {},
   "outputs": [],
   "source": [
    "def plot_by_type(dataFrame, title):\n",
    "    plt.subplots(figsize=(15, 13))\n",
    "\n",
    "    sns.heatmap(\n",
    "        dataFrame[dataFrame[\"type2\"] != \"unknown\"].groupby([\"type1\", \"type2\"]).size().unstack(),\n",
    "        cmap=\"Blues\",\n",
    "        linewidths=1,\n",
    "        annot=True\n",
    "    )\n",
    "\n",
    "    plt.xticks(rotation=35)\n",
    "    plt.title(title)\n",
    "    plt.show()"
   ]
  },
  {
   "cell_type": "code",
   "execution_count": null,
   "metadata": {},
   "outputs": [],
   "source": [
    "plot_by_type(pokemon_legendary_df, \"Pokemons llegendaris per Tipus\")"
   ]
  },
  {
   "cell_type": "markdown",
   "metadata": {},
   "source": [
    "Els tipus **psíquic/fantasma**, **foc/volador**, **elèctric/volador**, **insecte/lluita** i **drac/psíquic** són els tipus amb més *Pokemons* llegendaris, tots ells amb 2 exemplars.\n",
    "\n",
    "#### *Pokemon* llegendari més fort\n",
    "\n",
    "Quin és el Pokemon llegendari amb més atac (attack), defensa (defense), vida (hp) i velocitat (velocity) mitjana?"
   ]
  },
  {
   "cell_type": "code",
   "execution_count": null,
   "metadata": {},
   "outputs": [],
   "source": [
    "legendary_with_more_attack = max(pokemon_legendary_df['attack'])\n",
    "legendary_with_less_attack = min(pokemon_legendary_df['attack'])\n",
    "\n",
    "legendary_with_more_defense = max(pokemon_legendary_df['defense'])\n",
    "legendary_with_less_defense = min(pokemon_legendary_df['defense'])\n",
    "\n",
    "legendary_with_more_hp = max(pokemon_legendary_df['hp'])\n",
    "legendary_with_less_hp = min(pokemon_legendary_df['hp'])\n",
    "\n",
    "legendary_with_more_speed = max(pokemon_legendary_df['speed'])\n",
    "legendary_with_less_speed = min(pokemon_legendary_df['speed'])\n",
    "\n",
    "#Afegim el camp strong amb el comput en base al atac, defensa, vida i velocitat normalitzada.\n",
    "pokemon_legendary_df[\"strong\"] = ((pokemon_legendary_df['attack'] - legendary_with_less_attack)/(legendary_with_more_attack-legendary_with_less_attack) + \n",
    "                                 (pokemon_legendary_df['defense'] - legendary_with_less_defense)/(legendary_with_more_defense-legendary_with_less_defense) +\n",
    "                                 (pokemon_legendary_df['hp'] - legendary_with_less_hp)/(legendary_with_more_hp-legendary_with_less_hp) +\n",
    "                                 (pokemon_legendary_df['speed'] - legendary_with_less_speed)/(legendary_with_more_speed-legendary_with_less_speed))"
   ]
  },
  {
   "cell_type": "code",
   "execution_count": null,
   "metadata": {},
   "outputs": [],
   "source": [
    "print(pokemon_legendary_df[\"strong\"])"
   ]
  },
  {
   "cell_type": "code",
   "execution_count": null,
   "metadata": {},
   "outputs": [],
   "source": [
    "pokemon_legendary_df[pokemon_legendary_df[\"strong\"] == max(pokemon_legendary_df[\"strong\"])][[\"name\", \"strong\"]]"
   ]
  },
  {
   "cell_type": "code",
   "execution_count": null,
   "metadata": {},
   "outputs": [],
   "source": [
    "pokemon_legendary_df[pokemon_legendary_df[\"strong\"] == min(pokemon_legendary_df[\"strong\"])][[\"name\", \"strong\"]]"
   ]
  },
  {
   "cell_type": "markdown",
   "metadata": {},
   "source": [
    "En base al càlcul realitzat, podem considerar que el *Pokemon* llegendari més fort és **Groudon** amb una ponderació de: 2,44 punts i el més dèbil és **Cosmog** amb una ponderació de 0 punts."
   ]
  },
  {
   "cell_type": "markdown",
   "metadata": {},
   "source": [
    "### *Type1* i *type2*\n",
    "\n",
    "Cada *Pokemon* és d'un tipus concret **type1** o és una combinació de **type1** i **type2**, per aquest motiu, alguns d'ells no tenen **type2** (com s'ha vist en l'apartat anterior).\n",
    "\n",
    "### *Pokemons* d'un únic tipus i de doble tipus."
   ]
  },
  {
   "cell_type": "code",
   "execution_count": null,
   "metadata": {},
   "outputs": [],
   "source": [
    "single_type_pokemons = []\n",
    "dual_type_pokemons = []\n",
    "\n",
    "for i in pokemon_info_df.index:\n",
    "    if(pokemon_info_df.type2[i] != \"unknown\"):\n",
    "        single_type_pokemons.append(pokemon_info_df.name[i])\n",
    "    else:\n",
    "        dual_type_pokemons.append(pokemon_info_df.name[i])\n",
    "        \n",
    "print(\"Nombre de Pokemons amb un únic tipus %d: \" % len(single_type_pokemons))\n",
    "print(\"Nombre de Pokemons amb dos tipus %d: \" % len(dual_type_pokemons))"
   ]
  },
  {
   "cell_type": "markdown",
   "metadata": {},
   "source": [
    "Hi ha **417** d'un únic tipus (**52,1%**) i **384** amb doble tipus (**47,9%**), això es representa en el següent diagrama de sectors."
   ]
  },
  {
   "cell_type": "code",
   "execution_count": null,
   "metadata": {},
   "outputs": [],
   "source": [
    "data= [len(single_type_pokemons), len(dual_type_pokemons)]\n",
    "colors= [\"#ced1ff\",\"#76bfd4\"]\n",
    "\n",
    "plt.pie(data, labels=[\"Tipus únic\",\"Doble tipus\"], \n",
    "        startangle=90, explode=(0, 0.15), \n",
    "        shadow=True, colors=colors, autopct='%1.1f%%')\n",
    "\n",
    "plt.axis(\"equal\")\n",
    "\n",
    "plt.title(\"Tipus únic vs Doble tipus\")\n",
    "\n",
    "plt.tight_layout()\n",
    "\n",
    "plt.show()"
   ]
  },
  {
   "cell_type": "markdown",
   "metadata": {},
   "source": [
    "### Distribució en base al tipus\n",
    "\n",
    "En els següents diagrames de barres es mostra la distribució per **type1** i per **type2**"
   ]
  },
  {
   "cell_type": "code",
   "execution_count": null,
   "metadata": {},
   "outputs": [],
   "source": [
    "def plot_distribution(data, col, xlabel, ylabel, title):\n",
    "    types = pd.value_counts(data[col])\n",
    "\n",
    "    fig, ax = plt.subplots()\n",
    "    fig.set_size_inches(15,7)\n",
    "    sns.set_style(\"whitegrid\")\n",
    "\n",
    "    ax = sns.barplot(x=types.index, y=types, data=data)\n",
    "    ax.set_xticklabels(ax.get_xticklabels(), rotation=75, fontsize=12)\n",
    "    ax.set(xlabel=xlabel, ylabel=ylabel)\n",
    "    ax.set_title(title)"
   ]
  },
  {
   "cell_type": "code",
   "execution_count": null,
   "metadata": {},
   "outputs": [],
   "source": [
    "plot_distribution(pokemon_info_df, \"type1\", \"Tipus únic\", \"Nombre\", \n",
    "                  \"Distribució dels Pokemons amb un únic tipus\")"
   ]
  },
  {
   "cell_type": "code",
   "execution_count": null,
   "metadata": {},
   "outputs": [],
   "source": [
    "plot_distribution(pokemon_info_df, \"type2\", \"Doble tipus\", \"Nombre\", \n",
    "                  \"Distribució dels Pokemons amb un únic tipus\")"
   ]
  },
  {
   "cell_type": "markdown",
   "metadata": {},
   "source": [
    "### Combinació de tipus\n",
    "\n",
    "Ara volem saber quina combinació de tipus **type1** i **type2** hi ha entre tots els Pokemons."
   ]
  },
  {
   "cell_type": "code",
   "execution_count": null,
   "metadata": {},
   "outputs": [],
   "source": [
    "plt.subplots(figsize=(15, 13))\n",
    "\n",
    "sns.heatmap(\n",
    "    pokemon_info_df[pokemon_info_df[\"type2\"] != \"unknown\"].groupby([\"type1\", \"type2\"]).size().unstack(),\n",
    "    cmap=\"Blues\",\n",
    "    linewidths=1,\n",
    "    annot=True\n",
    ")\n",
    "\n",
    "plt.xticks(rotation=35)\n",
    "plt.show()"
   ]
  },
  {
   "cell_type": "markdown",
   "metadata": {},
   "source": [
    "Com es pot veure, la combinació de tipus més comuna és **normal/volador** amb **26 Pokemons** seguida per la combinació **planta/verí** i **insecte/volador** amb **14** i **13 Pokemons** respectivament.\n",
    "\n",
    "**Nota:** En aquest mapa de calor s'han filtrat tots aquells Pokemons sense segon tipus."
   ]
  },
  {
   "cell_type": "markdown",
   "metadata": {},
   "source": [
    "### Pes i alçada\n",
    "\n",
    "La variable **height_m** conté l'alçada en metres, mentre que la variable **weight_kg** conté el pes en Kilgorams. Així que, quins són els *Pokemons* amb major i menor alçada? I els de major i menor pes?"
   ]
  },
  {
   "cell_type": "code",
   "execution_count": null,
   "metadata": {},
   "outputs": [],
   "source": [
    "tallest_m = max(pokemon_info_df['height_m'])\n",
    "shortest_m = tallest_m\n",
    "for i in pokemon_info_df.index:\n",
    "    if pokemon_info_df.height_m[i] > 0 and pokemon_info_df.height_m[i] < shortest_m:\n",
    "        shortest_m = pokemon_info_df.height_m[i]\n",
    "\n",
    "tallest_pokemon = pokemon_info_df[pokemon_info_df['height_m'] == tallest_m]\n",
    "shortest_pokemon = pokemon_info_df[pokemon_info_df['height_m'] == shortest_m]\n",
    "\n",
    "print(\"Els Pokemons més alts són:\")\n",
    "for i in tallest_pokemon.index:\n",
    "    print(\"\\t%s amb %.2f metres\" % (tallest_pokemon.name[i], tallest_pokemon.height_m[i]))\n",
    "\n",
    "print(\"\\nEls Pokemons més petits són:\")\n",
    "for i in shortest_pokemon.index:\n",
    "    print(\"\\t%s amb %.2f metres\" % (shortest_pokemon.name[i], shortest_pokemon.height_m[i]))"
   ]
  },
  {
   "cell_type": "code",
   "execution_count": null,
   "metadata": {},
   "outputs": [],
   "source": [
    "max_weight = max(pokemon_info_df['weight_kg'])\n",
    "light_kg = max_weight\n",
    "for i in pokemon_info_df.index:\n",
    "    if pokemon_info_df.weight_kg[i] > 0 and pokemon_info_df.weight_kg[i] < light_kg:\n",
    "        light_kg = pokemon_info_df.weight_kg[i]\n",
    "\n",
    "heviest_pokemon = pokemon_info_df[pokemon_info_df['weight_kg'] == max_weight]\n",
    "lightest_pokemon = pokemon_info_df[pokemon_info_df['weight_kg'] == light_kg]\n",
    "\n",
    "print(\"Els Pokemons amb més pes són:\")\n",
    "for i in heviest_pokemon.index:\n",
    "    print(\"\\t%s amb %.2f kilograms\" % (heviest_pokemon.name[i], heviest_pokemon.weight_kg[i]))\n",
    "\n",
    "print(\"\\nEls Pokemons amb menys pes són:\")\n",
    "for i in lightest_pokemon.index:\n",
    "    print(\"\\t%s amb %.2f kilograms\" % (lightest_pokemon.name[i], lightest_pokemon.weight_kg[i]))"
   ]
  },
  {
   "cell_type": "markdown",
   "metadata": {},
   "source": [
    "#### Distribució de l'alçada i del pes\n",
    "\n",
    "Ara es vol veure quina és la distribució de l'alçada i pes dels Pokemons, per això es pot utilitzar histogrames i diagrames de caixa."
   ]
  },
  {
   "cell_type": "code",
   "execution_count": null,
   "metadata": {},
   "outputs": [],
   "source": [
    "fig, (ax1, ax2) = plt.subplots(1, 2, figsize=(15,5))\n",
    "\n",
    "sns.distplot(pokemon_info_df['height_m'], color='g', axlabel=\"Alçada (m)\", ax=ax1)\n",
    "sns.distplot(pokemon_info_df['weight_kg'], color='y', axlabel=\"Pes (kg)\", ax=ax2)"
   ]
  },
  {
   "cell_type": "code",
   "execution_count": null,
   "metadata": {},
   "outputs": [],
   "source": [
    "fig, (ax1, ax2) = plt.subplots(1, 2, figsize=(15, 5))\n",
    "\n",
    "sns.boxplot(x=pokemon_info_df[\"height_m\"], color=\"g\", orient=\"v\", ax=ax1)\n",
    "sns.boxplot(x=pokemon_info_df[\"weight_kg\"], color=\"y\", orient=\"v\", ax=ax2)"
   ]
  },
  {
   "cell_type": "markdown",
   "metadata": {},
   "source": [
    "Tots aquells Pokemons amb una alçada inferior a Com es pot veure, hi ha Pokemons molt dispersos a la resta, es con"
   ]
  },
  {
   "cell_type": "markdown",
   "metadata": {},
   "source": [
    "### Velocitat\n",
    "\n",
    "Quins són els *Pokemons* més ràpids i quins els més lents?"
   ]
  },
  {
   "cell_type": "code",
   "execution_count": null,
   "metadata": {},
   "outputs": [],
   "source": [
    "fast_value = max(pokemon_info_df['speed'])\n",
    "slow_value = min(pokemon_info_df[pokemon_info_df['speed'] != 0]['speed'])\n",
    "\n",
    "fastest_pokemon = pokemon_info_df[pokemon_info_df['speed'] == max(pokemon_info_df['speed'])]\n",
    "slowest_pokemon = pokemon_info_df[pokemon_info_df['speed'] == slow_value]\n",
    "\n",
    "print(\"Els Pokemons més ràpids són:\")\n",
    "for i in fastest_pokemon.index:\n",
    "    print(\"\\t%s amb una velocitat de %.f punts\" %(fastest_pokemon.name[i], fastest_pokemon.speed[i]))\n",
    "\n",
    "print(\"Els Pokemons més lents són:\")\n",
    "for i in slowest_pokemon.index:\n",
    "    print(\"\\t%s amb una velocitat de %.f punts\" %(slowest_pokemon.name[i], slowest_pokemon.speed[i]))"
   ]
  },
  {
   "cell_type": "markdown",
   "metadata": {},
   "source": [
    "#### Distribució de la velocitat"
   ]
  },
  {
   "cell_type": "code",
   "execution_count": null,
   "metadata": {},
   "outputs": [],
   "source": [
    "fig, (ax1, ax2) = plt.subplots(1, 2, figsize=(15, 5))\n",
    "sns.distplot(pokemon_info_df['speed'], color=\"orange\", ax=ax1)\n",
    "sns.boxplot(pokemon_info_df['speed'], color=\"orange\", orient=\"v\", ax=ax2)"
   ]
  },
  {
   "cell_type": "markdown",
   "metadata": {},
   "source": [
    "### Atac i defensa\n",
    "\n",
    "En els següents gràfics es comparen: l'atac i l'atac especial base, la defensa i la defensa especial base."
   ]
  },
  {
   "cell_type": "code",
   "execution_count": null,
   "metadata": {},
   "outputs": [],
   "source": [
    "fig, (ax1, ax2) = plt.subplots(1, 2, figsize=(15, 5))\n",
    "\n",
    "sns.distplot(pokemon_info_df['attack'], color=\"#B8F0FC\", hist=False, ax=ax1, label=\"Attack\")\n",
    "sns.distplot(pokemon_info_df[\"sp_attack\"], color=\"#52BAD0\", hist=False, ax=ax1, label=\"S. Attack\")\n",
    "ax1.title.set_text(\"Attack vs Special Attack\")\n",
    "\n",
    "ax2.title.set_text(\"Defense vs Special defense\")\n",
    "sns.distplot(pokemon_info_df['defense'], color=\"#C6FFBF\", hist=False, ax=ax2, label=\"Defense\")\n",
    "sns.distplot(pokemon_info_df[\"sp_defense\"], color=\"#61D052\", hist=False, ax=ax2, label=\"S. Defense\")"
   ]
  },
  {
   "cell_type": "markdown",
   "metadata": {},
   "source": [
    "En els següents gràfics es comparen: l'atac i la defensa base, l'atac especial i la defensa especial base."
   ]
  },
  {
   "cell_type": "code",
   "execution_count": null,
   "metadata": {},
   "outputs": [],
   "source": [
    "fig, (ax1, ax2) = plt.subplots(1, 2, figsize=(15, 5))\n",
    "\n",
    "ax1.title.set_text(\"Attack vs Defense\")\n",
    "sns.distplot(pokemon_info_df['attack'], color=\"#B8F0FC\", hist=False, ax=ax1, label=\"Attack\")\n",
    "sns.distplot(pokemon_info_df[\"defense\"], color=\"#52BAD0\", hist=False, ax=ax1, label=\"Defense\")\n",
    "\n",
    "ax2.title.set_text(\"Special Attack vs Special defense\")\n",
    "sns.distplot(pokemon_info_df['sp_attack'], color=\"#C6FFBF\", hist=False, ax=ax2, label=\"Special Attack\")\n",
    "sns.distplot(pokemon_info_df[\"sp_defense\"], color=\"#61D052\", hist=False, ax=ax2, label=\"Special Defense\")"
   ]
  },
  {
   "cell_type": "markdown",
   "metadata": {},
   "source": [
    "## [4]. Distribució de les variables\n",
    "\n",
    "En aquest apartat s'estudiarà la distribució que segueixen algunes de les variables i s'aplicaran contrastos de hipòtesi amb la finalitat d'extreure conclusions en base al tipus dels Pokemons.\n",
    "\n",
    "S'ha decidit estudiar les variables *atac*, *hp*, *defensa* i *velocitat*. \n",
    "\n",
    "### Normalitat en la distribució\n",
    "\n",
    "S'aplica un test de normalitat *shapiro-wilks* per veure si segueixen una [distribució normal](https://en.wikipedia.org/wiki/Normal_distribution). Aquest test planteja el següent contrast de hipòtesis:\n",
    "\n",
    "$H_{0}: X$ és normal\n",
    "\n",
    "$H_{1}: X$ no és normal"
   ]
  },
  {
   "cell_type": "code",
   "execution_count": null,
   "metadata": {},
   "outputs": [],
   "source": [
    "sp.stats.shapiro(pokemon_info_df['attack'].to_numpy())"
   ]
  },
  {
   "cell_type": "code",
   "execution_count": null,
   "metadata": {},
   "outputs": [],
   "source": [
    "sp.stats.shapiro(pokemon_info_df['hp'].to_numpy())"
   ]
  },
  {
   "cell_type": "code",
   "execution_count": null,
   "metadata": {},
   "outputs": [],
   "source": [
    "sp.stats.shapiro(pokemon_info_df['defense'].to_numpy())"
   ]
  },
  {
   "cell_type": "code",
   "execution_count": null,
   "metadata": {},
   "outputs": [],
   "source": [
    "sp.stats.shapiro(pokemon_info_df['speed'].to_numpy())"
   ]
  },
  {
   "cell_type": "code",
   "execution_count": null,
   "metadata": {},
   "outputs": [],
   "source": [
    "sp.stats.shapiro(pokemon_info_df['height_m'].to_numpy())"
   ]
  },
  {
   "cell_type": "code",
   "execution_count": null,
   "metadata": {},
   "outputs": [],
   "source": [
    "sp.stats.shapiro(pokemon_info_df['weight_kg'].to_numpy())"
   ]
  },
  {
   "cell_type": "markdown",
   "metadata": {},
   "source": [
    "Els testos per les variables *attack*, *hp*, *defense*, *speed*, *height_m* i *weight_kg* han obtingut un *p-value* inferior al nivell de significació ($\\alpha$ = 0.05), i per tant hi ha evidències estadístqiues suficients per rebutjar la hipòtesi nul·la i acceptar que no segueixen una distribució normal.\n",
    "\n",
    "### Homocedasticitat\n",
    "\n",
    "**Pes** en els Pokemons de tipus **roca** i **foc**\n",
    "\n",
    "Ara es vol saber si hi ha diferència en la variancia (heterocedasticitat) o no (homocedasticitat) per la variable *weight_kg* en base a si el seu primer tipus és roca (*rock*) o foc (*fire*). Per això s'aplica un test de **Fligner-Killeen** (s'aplica aquest test perquè no és paramètric i com s'ha vist anteriorment, les dades no han superat el test de normalitat) on el contrast és el següent:\n",
    "\n",
    "$H_{0}$: La variància entre $X_{0}$ i $X_{1}$ és homogenea.\n",
    "\n",
    "$H_{1}$: La variància entre $X_{0}$ i $X_{1}$ és heterogenea.\n",
    "\n",
    "El contrast es fa amb un nivell de significació de:\n",
    "\n",
    "$\\alpha = 0.05$"
   ]
  },
  {
   "cell_type": "code",
   "execution_count": null,
   "metadata": {},
   "outputs": [],
   "source": [
    "rock_pokemons_array = pokemon_info_df[(pokemon_info_df['type1'] == 'rock') \\\n",
    "                                      & (pokemon_info_df['weight_kg'] != 0)]['weight_kg'].to_numpy()\n",
    "fire_pokemons_array = pokemon_info_df[(pokemon_info_df['type1'] == 'fire') \\\n",
    "                                     & (pokemon_info_df['weight_kg'] != 0)]['weight_kg'].to_numpy()\n",
    "sp.stats.fligner(rock_pokemons_array, fire_pokemons_array)"
   ]
  },
  {
   "cell_type": "markdown",
   "metadata": {},
   "source": [
    "Com que s'ha obtingut un ***p-value*** de **0,044** (0,044 < $\\alpha$), **hi ha suficients evidències estadístiques per rebutjar la hipótesi nul·la**, i per tant, s'accepta amb un **nivell de confiança del 95%** que **hi ha diferències entre les variancies dels Pokemons de tipus roca i els de tipus foc.**\n",
    "\n",
    "\n",
    "### Contrast - Pes dels Pokemons de tipus roca i foc\n",
    "\n",
    "Ara es vol contestar a la pregunta: \n",
    "\n",
    "Es pot considerar que els Pokemons de tipus roca i foc tenen la mateixa mitja de pes? Per això es pot aplicar un **t-test** on el contrast d'hipòtesis és:\n",
    "\n",
    "$H_0:$ $\\mu_{1}-\\mu_{2} = 0$ (la mitja de **weight_kg** és igual pels Pokemons de tipus roca i foc)\n",
    "\n",
    "$H_1:$ $\\mu_{1}-\\mu_{2} \\ne 0$ (la mitja de **weight_kg** no és igual pels Pokemons de tipus roca i foc)\n",
    "\n",
    "On:\n",
    "\n",
    "$\\alpha = 0.05$\n",
    "\n",
    "**Nota:** Tot i que la variable **weight_kg** no segueix una distribució normal, com que la mida de les dades és considerablement superior a 30, es pot assumir normalitat pel teorema del límit central."
   ]
  },
  {
   "cell_type": "code",
   "execution_count": null,
   "metadata": {},
   "outputs": [],
   "source": [
    "sp.stats.ttest_ind(a = rock_pokemons_array, b = fire_pokemons_array)"
   ]
  },
  {
   "cell_type": "markdown",
   "metadata": {},
   "source": [
    "Com que s'ha obtingut un ***p-value*** de **0,137**, **no hi ha evidències estadístiques suficients per rebutjar la hipòtesi nul·la**, i per tant **es pot considerar que la mitja de pes entre els Pokemons de tipus roca i de tipus foc és el mateix.**\n",
    "\n",
    "\n",
    "## [4, 5] Anàlisi predictiu\n",
    "\n",
    "En aquest punt **es dona per finalitzat l'anàlisi descriptiu i es passa a l'anàlisi predictiu** amb l'objectiu de crear un model que permeti **adivinar quin guanyaria un combat entre dos *Pokemons***. El problema que es vol resoldre **és un problema de classificació amb dades etiquetades** (model supervisat), i per això, es crearan diversos models simples on es tindrà en compte l'accuracy com a únic paràmetre de bondat del model.\n",
    "\n",
    "Per mesurar l'*accuracy* s'aplicarà la tècnica de *k-fold cross validation* amb un valor de 10 per la *k*\n",
    "\n",
    "### Pokemon_battles_df\n",
    "\n",
    "El *dataset* analitzat fins el moment no conté la informació relacionada als combats, i per això, es complementaran les dades amb el *dataset pokemon_battles_df* amb els següents camps:\n",
    "\n",
    "* ***First_pokemon***: Índex de la *Pokedex* pel primer contrincant.\n",
    "* ***Second_pokemon***: Índex de la *Pokedex* pel segon contrincant.\n",
    "* ***Winner***: Índex de la *Pokedex* del guanyador."
   ]
  },
  {
   "cell_type": "code",
   "execution_count": null,
   "metadata": {},
   "outputs": [],
   "source": [
    "pokemon_battles_df"
   ]
  },
  {
   "cell_type": "markdown",
   "metadata": {},
   "source": [
    "El primer que cal fer es relacionar el *dataset* que conté la informació dels Pokemons (*pokemon_info_df*) amb el *dataset* dels combats (*pokemon_battles_df*). \n",
    "\n",
    "Per això apliquem dos *joins*, el primer que relaciona aquests dos datasets per obtenir les dades del primer Pokemon i el segon *join* on es tornen a relacionar aquest dos *datasets*, però aquesta vegada per obtenir la informació del segón *Pokemon* implicat."
   ]
  },
  {
   "cell_type": "code",
   "execution_count": null,
   "metadata": {},
   "outputs": [],
   "source": [
    "pokemon_battles_info_df = pokemon_battles_df.merge(pokemon_info_df, \\\n",
    "                                                      left_on='First_pokemon', \\\n",
    "                                                      right_on='pokedex_number' \\\n",
    "                                                     ).merge(pokemon_info_df, \\\n",
    "                                                             left_on='Second_pokemon', \\\n",
    "                                                             right_on='pokedex_number' \\\n",
    "                                                            )[['First_pokemon', 'Second_pokemon', \\\n",
    "                                                               'Winner', 'name_x', 'attack_x', \\\n",
    "                                                               'sp_attack_x', 'defense_x', 'sp_defense_x', \\\n",
    "                                                               'hp_x', 'speed_x', 'type1_x','is_legendary_x', \\\n",
    "                                                               'name_y', 'attack_y', \\\n",
    "                                                               'sp_attack_y', 'defense_y', 'sp_defense_y', \\\n",
    "                                                               'hp_y', 'speed_y', 'type1_y','is_legendary_y']]"
   ]
  },
  {
   "cell_type": "markdown",
   "metadata": {},
   "source": [
    "El *dataset* resultant conté per nom *field_x* el resultat del primer join i *field_y* pel resultat del segon join. Apliquem un *rename* perquè els camps *field_x* començin per *First_pokemon* i els camps *field_y* per *Second_pokemon*"
   ]
  },
  {
   "cell_type": "code",
   "execution_count": null,
   "metadata": {},
   "outputs": [],
   "source": [
    "pokemon_battles_info_df.rename(columns={'name_x': 'First_pokemon_name', 'attack_x': 'First_pokemon_attack', \\\n",
    "                                        'sp_attack_x': 'First_pokemon_sp_attack', 'defense_x': 'First_pokemon_defense', \\\n",
    "                                        'sp_defense_x': 'First_pokemon_sp_defense', 'hp_x': 'First_pokemon_hp', \\\n",
    "                                        'speed_x': 'First_pokemon_speed', 'type1_x': 'First_pokemon_type1', \\\n",
    "                                        'is_legendary_x': 'First_pokemon_is_legendary', 'name_y': 'Second_pokemon_name', \\\n",
    "                                        'attack_y': 'Second_pokemon_attack', 'sp_attack_y': 'Second_pokemon_sp_attack', \\\n",
    "                                        'defense_y': 'Second_pokemon_defense', 'sp_defense_y': 'Second_pokemon_sp_defense', \\\n",
    "                                        'hp_y': 'Second_pokemon_hp', 'speed_y': 'Second_pokemon_speed', \\\n",
    "                                        'type1_y': 'Second_pokemon_type1', 'is_legendary_y': 'Second_pokemon_is_legendary'}, \\\n",
    "                               inplace=True)"
   ]
  },
  {
   "cell_type": "markdown",
   "metadata": {},
   "source": [
    "### Camps *diff_?*\n",
    "\n",
    "Per construir el model predictiu cal calcular els camps amb les diferències entre les propietats implicades. Aquestes s'anomenaran *Diff_?*. Per exemple, la diferència d'atac seria: \n",
    "\n",
    "*Diff_attack* = *First_pokemon_attack* - *Second_pokemon_attack*"
   ]
  },
  {
   "cell_type": "code",
   "execution_count": null,
   "metadata": {},
   "outputs": [],
   "source": [
    "pokemon_battles_info_df['Diff_attack'] = pokemon_battles_info_df['First_pokemon_attack'] - pokemon_battles_info_df['Second_pokemon_attack']\n",
    "\n",
    "pokemon_battles_info_df['Diff_sp_attack'] = pokemon_battles_info_df['First_pokemon_sp_attack'] - pokemon_battles_info_df['Second_pokemon_sp_attack']\n",
    "\n",
    "pokemon_battles_info_df['Diff_defense'] = pokemon_battles_info_df['First_pokemon_defense'] - pokemon_battles_info_df['Second_pokemon_defense']\n",
    "\n",
    "pokemon_battles_info_df['Diff_sp_defense'] = pokemon_battles_info_df['First_pokemon_sp_defense'] - pokemon_battles_info_df['Second_pokemon_sp_defense']\n",
    "\n",
    "pokemon_battles_info_df['Diff_hp'] = pokemon_battles_info_df['First_pokemon_hp'] - pokemon_battles_info_df['Second_pokemon_hp']\n",
    "\n",
    "pokemon_battles_info_df['Diff_speed'] = pokemon_battles_info_df['First_pokemon_speed'] - pokemon_battles_info_df['Second_pokemon_speed']"
   ]
  },
  {
   "cell_type": "markdown",
   "metadata": {},
   "source": [
    "### Camp *winner_result*\n",
    "Com que l'objectiu d'aquest model predictiu és fer una classificació on el resultat sigui 0 si guanya el primer *Pokemon* o 1 en cas contrari. Afegim el camp ***Winner_result*** amb aquest càlcul."
   ]
  },
  {
   "cell_type": "code",
   "execution_count": null,
   "metadata": {},
   "outputs": [],
   "source": [
    "pokemon_battles_info_df['Winner_result'] = np.where(\\\n",
    "                                                    pokemon_battles_info_df['First_pokemon'] == \\\n",
    "                                                    pokemon_battles_info_df['Winner'], 0, 1)"
   ]
  },
  {
   "cell_type": "markdown",
   "metadata": {},
   "source": [
    "### Seleccionar els camps del model\n",
    "\n",
    "Ara creem el *dataset* ***pokemon_battles_pred_df*** amb els camps que s'usaran com a predictors, que són: \n",
    "\n",
    "* ***Diff_attack***\n",
    "* ***Diff_sp_attack***\n",
    "* ***Diff_defense***\n",
    "* ***Diff_sp_defense***\n",
    "* ***Diff_hp***\n",
    "* ***Diff_speed***\n",
    "* ***First_pokemon_is_legendary***\n",
    "* ***Second_pokemon_is_legendary***\n",
    "\n",
    "I el *dataset* ***pokemon_battles_res_df*** amb el camp resultat que és *Winner_result*"
   ]
  },
  {
   "cell_type": "code",
   "execution_count": null,
   "metadata": {},
   "outputs": [],
   "source": [
    "pokemon_battles_pred = pokemon_battles_info_df[['Diff_attack', 'Diff_sp_attack', \\\n",
    "                                                'Diff_defense', 'Diff_sp_defense', \\\n",
    "                                                'Diff_hp', 'Diff_speed', \\\n",
    "                                                'First_pokemon_is_legendary',\n",
    "                                                'Second_pokemon_is_legendary']].values\n",
    "\n",
    "pokemon_battles_res = pokemon_battles_info_df['Winner_result'].values"
   ]
  },
  {
   "cell_type": "markdown",
   "metadata": {},
   "source": [
    "### Escalar les dades\n",
    "\n",
    "Si els rangs de valors per les variables utilitzades en el model és considerablment diferent, poden causar distorsions en els resultats obtinguts. Per mostrar la seva distribució es pot utilitzar un *boxplot*."
   ]
  },
  {
   "cell_type": "code",
   "execution_count": null,
   "metadata": {},
   "outputs": [],
   "source": [
    "plt.subplots(figsize=(15,10))\n",
    "sns.boxplot(data=pokemon_battles_pred[:,0:6], orient='v')"
   ]
  },
  {
   "cell_type": "markdown",
   "metadata": {},
   "source": [
    "Com es pot observar hi ha diferència entre el rang de les dades, per això es pot aplicar un escalat robust."
   ]
  },
  {
   "cell_type": "code",
   "execution_count": null,
   "metadata": {},
   "outputs": [],
   "source": [
    "from sklearn.preprocessing import RobustScaler\n",
    "rs = RobustScaler()\n",
    "\n",
    "rs.fit(pokemon_battles_pred)\n",
    "\n",
    "pokemon_battles_pred = rs.transform(pokemon_battles_pred)"
   ]
  },
  {
   "cell_type": "code",
   "execution_count": null,
   "metadata": {},
   "outputs": [],
   "source": [
    "plt.subplots(figsize=(15,10))\n",
    "sns.boxplot(data=pokemon_battles_pred[:,0:6], orient='v')"
   ]
  },
  {
   "cell_type": "markdown",
   "metadata": {},
   "source": [
    "### Separar les dades en *dades d'entrenament* i *dades de prova*\n",
    "\n",
    "Com que és un **model supervisat**, cal separar les dades en dades d'entrenament i dades de prova. El model utilitzarà les dades d'entrenament per aprendre (fase d'entrenament) i les dades de prova per comprovar si el que ha aprés és o no correcte (fase de test).\n",
    "\n",
    "Com que **hi ha una quantitat relativament alta de registres** (38,743), s'ha decidit utilitzar un **80% de les dades per a l'entrenament** (30,994 registres) i **un 20% pel test** (7,749 registres)."
   ]
  },
  {
   "cell_type": "code",
   "execution_count": null,
   "metadata": {},
   "outputs": [],
   "source": [
    "from sklearn.model_selection import train_test_split\n",
    "\n",
    "#S'ha decidit assignar el valor 23 a la llavor per així obtenir sempre el mateix resultat.\n",
    "pokemon_battle_pred_train, pokemon_battle_pred_test, \\\n",
    "pokemon_battle_res_train, pokemon_battle_res_test = train_test_split(\\\n",
    "                                                                     pokemon_battles_pred, \\\n",
    "                                                                     pokemon_battles_res, \\\n",
    "                                                                     test_size=0.2, random_state = 23)"
   ]
  },
  {
   "cell_type": "markdown",
   "metadata": {},
   "source": [
    "### Crear el model de regressió logística"
   ]
  },
  {
   "cell_type": "code",
   "execution_count": null,
   "metadata": {},
   "outputs": [],
   "source": [
    "from sklearn.linear_model import LogisticRegression\n",
    "classifier = LogisticRegression(random_state = 0)\n",
    "classifier.fit(pokemon_battle_pred_train, pokemon_battle_res_train)"
   ]
  },
  {
   "cell_type": "code",
   "execution_count": null,
   "metadata": {},
   "outputs": [],
   "source": [
    "pokemon_battle_results = classifier.predict(pokemon_battle_pred_test)"
   ]
  },
  {
   "cell_type": "code",
   "execution_count": null,
   "metadata": {},
   "outputs": [],
   "source": [
    "from sklearn.metrics import confusion_matrix\n",
    "cm = confusion_matrix(pokemon_battle_res_test, pokemon_battle_results)"
   ]
  },
  {
   "cell_type": "code",
   "execution_count": null,
   "metadata": {},
   "outputs": [],
   "source": [
    "print(cm)"
   ]
  },
  {
   "cell_type": "code",
   "execution_count": null,
   "metadata": {},
   "outputs": [],
   "source": [
    "from sklearn.model_selection import cross_val_score\n",
    "accuracies = cross_val_score(estimator = classifier, X = pokemon_battles_pred, y = pokemon_battles_res, cv = 10, scoring='accuracy')\n",
    "print('Mean: {}, standard deviation: {}'.format(accuracies.mean(), accuracies.std()))"
   ]
  },
  {
   "cell_type": "markdown",
   "metadata": {},
   "source": [
    "**Accuracy:** 87,97%"
   ]
  },
  {
   "cell_type": "markdown",
   "metadata": {},
   "source": [
    "### K nearest Neighbours (*Knn*)"
   ]
  },
  {
   "cell_type": "code",
   "execution_count": null,
   "metadata": {},
   "outputs": [],
   "source": [
    "from sklearn.neighbors import KNeighborsClassifier\n",
    "knn_classifier = KNeighborsClassifier(n_neighbors=5, metric='minkowski', p=2)\n",
    "knn_classifier.fit(X=pokemon_battle_pred_train, y=pokemon_battle_res_train)"
   ]
  },
  {
   "cell_type": "code",
   "execution_count": null,
   "metadata": {},
   "outputs": [],
   "source": [
    "knn_pokemon_battle_results = knn_classifier.predict(pokemon_battle_pred_test)"
   ]
  },
  {
   "cell_type": "code",
   "execution_count": null,
   "metadata": {},
   "outputs": [],
   "source": [
    "knn_cm = confusion_matrix(pokemon_battle_res_test, knn_pokemon_battle_results)"
   ]
  },
  {
   "cell_type": "code",
   "execution_count": null,
   "metadata": {},
   "outputs": [],
   "source": [
    "print(knn_cm)"
   ]
  },
  {
   "cell_type": "code",
   "execution_count": null,
   "metadata": {},
   "outputs": [],
   "source": [
    "from sklearn.model_selection import cross_val_score\n",
    "accuracies = cross_val_score(estimator = knn_classifier, X = pokemon_battles_pred, y = pokemon_battles_res, cv = 10, scoring='accuracy')\n",
    "print('Mean: {}, standard deviation: {}'.format(accuracies.mean(), accuracies.std()))"
   ]
  },
  {
   "cell_type": "markdown",
   "metadata": {},
   "source": [
    "**Accuracy:** 87,58%"
   ]
  },
  {
   "cell_type": "markdown",
   "metadata": {},
   "source": [
    "### Support Vector Machine - SVM"
   ]
  },
  {
   "cell_type": "code",
   "execution_count": null,
   "metadata": {},
   "outputs": [],
   "source": [
    "from sklearn.svm import SVC\n",
    "svm_classifier = SVC(kernel='rbf', random_state=0)"
   ]
  },
  {
   "cell_type": "code",
   "execution_count": null,
   "metadata": {},
   "outputs": [],
   "source": [
    "svm_classifier = svm_classifier.fit(X=pokemon_battle_pred_train, y=pokemon_battle_res_train)"
   ]
  },
  {
   "cell_type": "code",
   "execution_count": null,
   "metadata": {},
   "outputs": [],
   "source": [
    "svm_pokemon_battle_results = svm_classifier.predict(X=pokemon_battle_pred_test)\n",
    "svm_cm = confusion_matrix(pokemon_battle_res_test, svm_pokemon_battle_results)"
   ]
  },
  {
   "cell_type": "code",
   "execution_count": null,
   "metadata": {},
   "outputs": [],
   "source": [
    "print(svm_cm)"
   ]
  },
  {
   "cell_type": "code",
   "execution_count": null,
   "metadata": {},
   "outputs": [],
   "source": [
    "from sklearn.model_selection import cross_val_score\n",
    "accuracies = cross_val_score(estimator = svm_classifier, X = pokemon_battles_pred, y = pokemon_battles_res, cv = 10, scoring='accuracy')\n",
    "print('Mean: {}, standard deviation: {}'.format(accuracies.mean(), accuracies.std()))"
   ]
  },
  {
   "cell_type": "markdown",
   "metadata": {},
   "source": [
    "**Accuracy:** 90,92%"
   ]
  },
  {
   "cell_type": "markdown",
   "metadata": {},
   "source": [
    "### Classificació per xarxa bayesiana (*Naive bayes*)"
   ]
  },
  {
   "cell_type": "code",
   "execution_count": null,
   "metadata": {},
   "outputs": [],
   "source": [
    "from sklearn.naive_bayes import GaussianNB\n",
    "nb_classifier = GaussianNB()"
   ]
  },
  {
   "cell_type": "code",
   "execution_count": null,
   "metadata": {},
   "outputs": [],
   "source": [
    "nb_classifier = nb_classifier.fit(X=pokemon_battle_pred_train, y=pokemon_battle_res_train)\n",
    "nb_pokemon_battle_results = nb_classifier.predict(X=pokemon_battle_pred_test)"
   ]
  },
  {
   "cell_type": "code",
   "execution_count": null,
   "metadata": {},
   "outputs": [],
   "source": [
    "nb_cm = confusion_matrix(pokemon_battle_res_test, nb_pokemon_battle_results)\n",
    "print(nb_cm)"
   ]
  },
  {
   "cell_type": "code",
   "execution_count": null,
   "metadata": {},
   "outputs": [],
   "source": [
    "from sklearn.model_selection import cross_val_score\n",
    "accuracies = cross_val_score(estimator = nb_classifier, X = pokemon_battles_pred, y = pokemon_battles_res, cv = 10, scoring='accuracy')\n",
    "print('Mean: {}, standard deviation: {}'.format(accuracies.mean(), accuracies.std()))"
   ]
  },
  {
   "cell_type": "markdown",
   "metadata": {},
   "source": [
    "**Accuracy:** 79,95%"
   ]
  },
  {
   "cell_type": "markdown",
   "metadata": {},
   "source": [
    "### Random Forest Classifier (RFC)"
   ]
  },
  {
   "cell_type": "code",
   "execution_count": null,
   "metadata": {},
   "outputs": [],
   "source": [
    "from sklearn.ensemble import RandomForestClassifier"
   ]
  },
  {
   "cell_type": "code",
   "execution_count": null,
   "metadata": {},
   "outputs": [],
   "source": [
    "rfc_classifier = RandomForestClassifier(n_estimators=10, criterion='entropy', random_state=0)\n",
    "rfc_classifier = rfc_classifier.fit(X=pokemon_battle_pred_train, y=pokemon_battle_res_train)"
   ]
  },
  {
   "cell_type": "code",
   "execution_count": null,
   "metadata": {},
   "outputs": [],
   "source": [
    "rfc_pokemon_battle_results = rfc_classifier.predict(X=pokemon_battle_pred_test)\n",
    "rfc_cm = confusion_matrix(pokemon_battle_res_test, rfc_pokemon_battle_results)"
   ]
  },
  {
   "cell_type": "code",
   "execution_count": null,
   "metadata": {},
   "outputs": [],
   "source": [
    "print(rfc_cm)"
   ]
  },
  {
   "cell_type": "code",
   "execution_count": null,
   "metadata": {},
   "outputs": [],
   "source": [
    "from sklearn.model_selection import cross_val_score\n",
    "accuracies = cross_val_score(estimator = rfc_classifier, X = pokemon_battles_pred, y = pokemon_battles_res, cv = 10, scoring='accuracy')\n",
    "print('Mean: {}, standard deviation: {}'.format(accuracies.mean(), accuracies.std()))"
   ]
  },
  {
   "cell_type": "markdown",
   "metadata": {},
   "source": [
    "**Accuracy:** 92,25"
   ]
  },
  {
   "cell_type": "markdown",
   "metadata": {},
   "source": [
    "### Millor model\n",
    "\n",
    "El model que ha obtingut un millor *accuracy* ha estat el *Random Forest Classifier* amb un encert del 92,51%:\n",
    "\n",
    "### Millorar el model (afegir el tipus dels *Pokemons*)\n",
    "\n",
    "Com s'ha mostrat en apartats anteriors, **cada *Pokemon* té un tipus base** i pot tenir un segon tipus. Evidentment, aquestes propietats **influeixen a l'hora de determinar el guanyador en un combat**, per exemple, un Pokemon d'aigua més dèbil (menys atac, defensa, vida, etc.) pot guanyar amb més facilitat a un Pokemon de foc que tingui més elevades les característiques, que a un Pokemon de planta.\n",
    "\n",
    "Per això, anem a calcular una nova propietat que determini l'eficacia en base al tipus de Pokemon. Aquesta propietat vindrà definida en funció del primer i segon tipus del Pokemon (*type1* i *type2*) i la seva debilitat en vers als altres tipus (*against_?*).\n",
    "\n",
    "D'aquesta manera, si comparem els Pokemons *Pikachu* (elèctric/elèctric) i *Onix* (roca/terra), té avantatge l'Ònix perquè no té debilitat en vers a l'electricitat (*against_electric = 0*) i en canvi, en Pikachu té debilitat per la roca (*against_rock = 1*) i per la terra (*against_ground = 2*).\n",
    "\n",
    "Per obtenir un valor numèric, s'aplica la formula:\n",
    "\n",
    "$f(p1, p2) = g(p1, p2) - g(p2, p1)$\n",
    "\n",
    "On:\n",
    "\n",
    "* $g(p1, p2) = dbt1(p1, p2)*ft1 + dbt2(p1, p2)*ft2$\n",
    "* $dbt1(p1, p2)$ = Debilitat del *Pokemon* p2 en vers al primer tipus del *Pokemon* p1.\n",
    "* $dbt2(p1, p2)$ = Debilitat del *Pokemon* p2 en vers el segon tipus del *Pokemon* p1.\n",
    "* $ft1$ = Factor arbitrari per ponderar el tipus 1\n",
    "* $ft2$ = Factor arbitrari per ponderar el tipus 2\n",
    "\n",
    "D'aquesta manera, per l'exemple de l'*Onix* vs *Pikachu* donat:\n",
    "\n",
    "* *Onix*: *type1* = rock, *type2* = ground, *against_electric* = 0\n",
    "* *Pikachu*: *type1* = eletric, *type2* = eletric, *against_rock* = 1, *against_ground*= 2\n",
    "* $ft1$ = 1\n",
    "* $ft2$ = 0.3\n",
    "\n",
    "tenim:\n",
    "\n",
    "$f(Onix, Pikachu) = (1*1 + 2*0.3) - (0*1 + 0*0.3) = 1.6$\n",
    "\n",
    "Com era d'esperar, degut que els *Pokemons* de tipus roca i terra tenen avantatge davant dels *Pokemons* de tipus elèctric, s'ha obtingut un valor positiu."
   ]
  },
  {
   "cell_type": "code",
   "execution_count": null,
   "metadata": {},
   "outputs": [],
   "source": [
    "def effectivity_against(pokemon1, pokemon2, effectivity_type1, effectivity_type2):\n",
    "    type1 = pokemon1['type1'].iloc[0]\n",
    "    type2 = pokemon1['type2'].iloc[0]\n",
    "    against_type1 = pokemon2['against_'+type1].iloc[0]\n",
    "    if type2 == 'unknown':\n",
    "        return against_type1 * effectivity_type1\n",
    "    else:\n",
    "        against_type2 = pokemon2['against_'+type2].iloc[0]\n",
    "        return (against_type1 * effectivity_type1) + (against_type2 * effectivity_type2)"
   ]
  },
  {
   "cell_type": "code",
   "execution_count": null,
   "metadata": {},
   "outputs": [],
   "source": [
    "def balance_effectivity_against(pokemon1, pokemon2, effectivity_type1 = 1, effectivity_type2 = 0.3):\n",
    "    return effectivity_against(pokemon1, pokemon2, \\\n",
    "                               effectivity_type1, effectivity_type2) - effectivity_against(pokemon2, pokemon1, \\\n",
    "                               effectivity_type1, effectivity_type2)"
   ]
  },
  {
   "cell_type": "code",
   "execution_count": null,
   "metadata": {},
   "outputs": [],
   "source": [
    "def balance_effectivity_against_by_pokedex_number(pokemon_number1, pokemon_number2, \\\n",
    "                                                 effectivity_type1 = 1, effectivity_type2 = 0.3):\n",
    "    pokemon1 = pokemon_info_df[pokemon_info_df['pokedex_number'] == pokemon_number1]\n",
    "    pokemon2 = pokemon_info_df[pokemon_info_df['pokedex_number'] == pokemon_number2]\n",
    "    return balance_effectivity_against(pokemon1, pokemon2, effectivity_type1, effectivity_type2)"
   ]
  },
  {
   "cell_type": "markdown",
   "metadata": {},
   "source": [
    "Ara cal afegir la propietat *balance_effectivity* al *dataframe pokemon_battles_info_df*"
   ]
  },
  {
   "cell_type": "code",
   "execution_count": null,
   "metadata": {},
   "outputs": [],
   "source": [
    "pokemon_battles_info_df['balance_effectivity'] = [\\\n",
    "                                             balance_effectivity_against_by_pokedex_number(\\\n",
    "                                                   row['First_pokemon'], \\\n",
    "                                                   row['Second_pokemon']) \\\n",
    "                                             for index, row in pokemon_battles_df.iterrows()\\\n",
    "                                            ]"
   ]
  },
  {
   "cell_type": "markdown",
   "metadata": {},
   "source": [
    "S'afegeix la columna *balance_effectivity* al *dataframe pokemon_battles_pred*"
   ]
  },
  {
   "cell_type": "code",
   "execution_count": null,
   "metadata": {},
   "outputs": [],
   "source": [
    "pokemon_battles_improved_pred = pokemon_battles_info_df[['Diff_attack', 'Diff_sp_attack', \\\n",
    "                                                            'Diff_defense', 'Diff_sp_defense', \\\n",
    "                                                            'Diff_hp', 'Diff_speed', \\\n",
    "                                                            'First_pokemon_is_legendary',\n",
    "                                                            'Second_pokemon_is_legendary',\n",
    "                                                            'balance_effectivity']].values"
   ]
  },
  {
   "cell_type": "markdown",
   "metadata": {},
   "source": [
    "Distribució de les variables"
   ]
  },
  {
   "cell_type": "code",
   "execution_count": null,
   "metadata": {},
   "outputs": [],
   "source": [
    "plt.subplots(figsize=(15,10))\n",
    "sns.boxplot(data=pokemon_battles_improved_pred[:,[0,1,2,3,4,5,8]], orient='v')"
   ]
  },
  {
   "cell_type": "markdown",
   "metadata": {},
   "source": [
    "Es normalitzen altre vegada les variables numèriques."
   ]
  },
  {
   "cell_type": "code",
   "execution_count": null,
   "metadata": {},
   "outputs": [],
   "source": [
    "rs = RobustScaler()\n",
    "\n",
    "rs.fit(pokemon_battles_improved_pred)\n",
    "\n",
    "pokemon_battles_improved_pred = rs.transform(pokemon_battles_improved_pred)\n",
    "\n",
    "plt.subplots(figsize=(15,10))\n",
    "sns.boxplot(data=pokemon_battles_improved_pred[:,[0,1,2,3,4,5,8]], orient='v')"
   ]
  },
  {
   "cell_type": "markdown",
   "metadata": {},
   "source": [
    "Un cop escalades, tornem a separar-les en un conjunt d'entrenament i un de prova."
   ]
  },
  {
   "cell_type": "code",
   "execution_count": null,
   "metadata": {},
   "outputs": [],
   "source": [
    "pokemon_battles_improved_pred_train, pokemon_battles_improved_pred_test, \\\n",
    "pokemon_battles_improved_res_train, pokemon_battles_improved_res_test = train_test_split(\\\n",
    "                                                                     pokemon_battles_improved_pred, \\\n",
    "                                                                     pokemon_battles_res, \\\n",
    "                                                                     test_size=0.2, random_state = 23)"
   ]
  },
  {
   "cell_type": "markdown",
   "metadata": {},
   "source": [
    "#### *Random forest* millorat\n",
    "\n",
    "Calculat l'atribut *balance_effectivity* que té en compte el tipus dels Pokemons involucrats en el combat, tornem a crear el model basat en *random forest* (ja que és amb el que hem obtingut un major *accuracy*) per veure si millorem els resultats."
   ]
  },
  {
   "cell_type": "code",
   "execution_count": null,
   "metadata": {},
   "outputs": [],
   "source": [
    "improved_rfc_classifier = RandomForestClassifier(n_estimators=10, criterion='entropy', random_state=0)\n",
    "improved_rfc_classifier = improved_rfc_classifier.fit(\\\n",
    "                                                      X=pokemon_battles_improved_pred_train, \\\n",
    "                                                      y=pokemon_battles_improved_res_train)"
   ]
  },
  {
   "cell_type": "code",
   "execution_count": null,
   "metadata": {},
   "outputs": [],
   "source": [
    "improved_rfc_pokemon_battle_results = improved_rfc_classifier.predict(X=pokemon_battles_improved_pred_test)\n",
    "improved_rfc_cm = confusion_matrix(pokemon_battles_improved_res_test, improved_rfc_pokemon_battle_results)"
   ]
  },
  {
   "cell_type": "code",
   "execution_count": null,
   "metadata": {},
   "outputs": [],
   "source": [
    "print(improved_rfc_cm)"
   ]
  },
  {
   "cell_type": "code",
   "execution_count": null,
   "metadata": {},
   "outputs": [],
   "source": [
    "from sklearn.model_selection import cross_val_score\n",
    "accuracies = cross_val_score(estimator = improved_rfc_classifier, X = pokemon_battles_improved_pred, y = pokemon_battles_res, cv = 10, scoring='accuracy')\n",
    "print('Mean: {}, standard deviation: {}'.format(accuracies.mean(), accuracies.std()))"
   ]
  },
  {
   "cell_type": "markdown",
   "metadata": {},
   "source": [
    "**Accuracy:** 92,56%\n",
    "\n",
    "**Nota:** Afegint la variable *balance_effectivity* augmenta la complexitat del model i millora l'accuracy només en un 0,31%."
   ]
  },
  {
   "cell_type": "markdown",
   "metadata": {},
   "source": [
    "### [Corba ROC](https://en.wikipedia.org/wiki/Receiver_operating_characteristic)\n",
    "\n",
    "La corba característica pel model obtingut és:"
   ]
  },
  {
   "cell_type": "code",
   "execution_count": null,
   "metadata": {},
   "outputs": [],
   "source": [
    "from sklearn.metrics import roc_curve, auc\n",
    "\n",
    "fpr, tpr, _ = roc_curve(y_true=pokemon_battles_improved_res_test , y_score=improved_rfc_pokemon_battle_results)\n",
    "auc = auc(fpr, tpr)"
   ]
  },
  {
   "cell_type": "code",
   "execution_count": null,
   "metadata": {},
   "outputs": [],
   "source": [
    "plt.subplots(figsize=(15, 8))\n",
    "plt.plot(fpr, tpr, color='darkorange', lw=2, label='ROC curve (area = %0.2f)' % auc)\n",
    "plt.plot([0, 1], [0, 1], color='navy', lw=2, linestyle='--')\n",
    "plt.xlim([0.0, 1.0])\n",
    "plt.ylim([0.0, 1.05])\n",
    "plt.xlabel('False Positive Rate (FPR)')\n",
    "plt.ylabel('True Positive Rate (TPR)')\n",
    "plt.title('ROC - Classificació de combats')\n",
    "plt.legend(loc=\"lower right\")\n",
    "plt.show()"
   ]
  },
  {
   "cell_type": "markdown",
   "metadata": {},
   "source": [
    "## Torneig *Pokemon*\n",
    "\n",
    "Per comprovar l'efectivitat del model de predicció creat s'ha decidit realitzar un Torneig *Pokemon*, on hi participen **16 *Pokemons***, **8** dels quals **són llegendaris**. El Torneig consta de **8 combats** dividits en **4 fases**. "
   ]
  },
  {
   "cell_type": "code",
   "execution_count": null,
   "metadata": {},
   "outputs": [],
   "source": [
    "# Construeix les dades del combat que enfronta el pokemon1 contra el pokemon2, \n",
    "#les dades retornades ja estan normalitzades.\n",
    "def build_fight(name_pokemon1, name_pokemon2):\n",
    "    pokemon1 = pokemon_info_df[pokemon_info_df['name'] == name_pokemon1].iloc[0]\n",
    "    pokemon2 = pokemon_info_df[pokemon_info_df['name'] == name_pokemon2].iloc[0]\n",
    "    return rs.transform(pd.DataFrame.from_dict({'Diff_attack': [pokemon1['attack']-pokemon2['attack']],\\\n",
    "       'Diff_sp_attack': [pokemon1['sp_attack']-pokemon2['sp_attack']],\\\n",
    "       'Diff_defense': [pokemon1['defense']-pokemon2['defense']],\\\n",
    "       'Diff_sp_defense': [pokemon1['sp_defense']-pokemon2['sp_defense']],\\\n",
    "       'Diff_hp': [pokemon1['hp']-pokemon2['hp']],\\\n",
    "       'Diff_speed': [pokemon1['speed']-pokemon2['speed']],\\\n",
    "       'First_pokemon_is_legendary': [pokemon1['is_legendary']],\\\n",
    "       'Second_pokemon_is_legendary': [pokemon2['is_legendary']],\\\n",
    "       'balance_effectivity': [balance_effectivity_against_by_pokedex_number(\\\n",
    "            pokemon1['pokedex_number'], pokemon2['pokedex_number'])]}))"
   ]
  },
  {
   "cell_type": "code",
   "execution_count": null,
   "metadata": {},
   "outputs": [],
   "source": [
    "# Realitza una lluita que enfronta el Pokemon1 contra el Pokemon2 i \n",
    "# fa la predicció del guanyador amb el classifier\n",
    "def fight(classifier, name_pokemon1, name_pokemon2):\n",
    "    pokemon_fight = build_fight(name_pokemon1, name_pokemon2)\n",
    "        \n",
    "    #Make the prediction\n",
    "    result = classifier.predict_proba(X=pokemon_fight)\n",
    "    \n",
    "    if result[0][0] > 0.5:\n",
    "        print('The winner is: {} with a probability of: {}%'.format(name_pokemon1, (result[0][0]*100)))\n",
    "    else:\n",
    "        print('The winner is: {} with a probability of: {}%'.format(name_pokemon2, (result[0][1]*100)))"
   ]
  },
  {
   "cell_type": "markdown",
   "metadata": {},
   "source": [
    "### Round 1\n",
    "\n",
    "![title](img/torneig/round__1.jpg)"
   ]
  },
  {
   "cell_type": "code",
   "execution_count": null,
   "metadata": {},
   "outputs": [],
   "source": [
    "fight1 = fight(classifier=improved_rfc_classifier, name_pokemon1='Snorlax', name_pokemon2='Ninetales')"
   ]
  },
  {
   "cell_type": "code",
   "execution_count": null,
   "metadata": {},
   "outputs": [],
   "source": [
    "fight2 = fight(classifier=improved_rfc_classifier, name_pokemon1='Gengar', name_pokemon2='Altaria')"
   ]
  },
  {
   "cell_type": "code",
   "execution_count": null,
   "metadata": {},
   "outputs": [],
   "source": [
    "fight3 = fight(classifier=improved_rfc_classifier, name_pokemon1='Raikou', name_pokemon2='Mew')"
   ]
  },
  {
   "cell_type": "code",
   "execution_count": null,
   "metadata": {},
   "outputs": [],
   "source": [
    "fight4 = fight(classifier=improved_rfc_classifier, name_pokemon1='Articuno', name_pokemon2='Kommo-o')"
   ]
  },
  {
   "cell_type": "code",
   "execution_count": null,
   "metadata": {},
   "outputs": [],
   "source": [
    "fight5 = fight(classifier=improved_rfc_classifier, name_pokemon1='Swampert', name_pokemon2='Solgaleo')"
   ]
  },
  {
   "cell_type": "code",
   "execution_count": null,
   "metadata": {},
   "outputs": [],
   "source": [
    "fight6 = fight(classifier=improved_rfc_classifier, name_pokemon1='Nidoking', name_pokemon2='Rayquaza')"
   ]
  },
  {
   "cell_type": "code",
   "execution_count": null,
   "metadata": {},
   "outputs": [],
   "source": [
    "fight7 = fight(classifier=improved_rfc_classifier, name_pokemon1='Mewtwo', name_pokemon2='Celebi')"
   ]
  },
  {
   "cell_type": "code",
   "execution_count": null,
   "metadata": {},
   "outputs": [],
   "source": [
    "fight8 = fight(classifier=improved_rfc_classifier, name_pokemon1='Arceus', name_pokemon2='Milotic')"
   ]
  },
  {
   "cell_type": "markdown",
   "metadata": {},
   "source": [
    "### Round 2\n",
    "![title](img/torneig/round_2.jpg)"
   ]
  },
  {
   "cell_type": "code",
   "execution_count": null,
   "metadata": {},
   "outputs": [],
   "source": [
    "fight9 = fight(classifier=improved_rfc_classifier, name_pokemon1='Snorlax', name_pokemon2='Raikou')"
   ]
  },
  {
   "cell_type": "code",
   "execution_count": null,
   "metadata": {},
   "outputs": [],
   "source": [
    "fight10 = fight(classifier=improved_rfc_classifier, name_pokemon1='Altaria', name_pokemon2='Kommo-o')"
   ]
  },
  {
   "cell_type": "code",
   "execution_count": null,
   "metadata": {},
   "outputs": [],
   "source": [
    "fight11 = fight(classifier=improved_rfc_classifier, name_pokemon1='Swampert', name_pokemon2='Mewtwo')"
   ]
  },
  {
   "cell_type": "code",
   "execution_count": null,
   "metadata": {},
   "outputs": [],
   "source": [
    "fight12 = fight(classifier=improved_rfc_classifier, name_pokemon1='Rayquaza', name_pokemon2='Arceus')"
   ]
  },
  {
   "cell_type": "markdown",
   "metadata": {},
   "source": [
    "### Round 3\n",
    "![title](img/torneig/round_3.jpg)"
   ]
  },
  {
   "cell_type": "code",
   "execution_count": null,
   "metadata": {},
   "outputs": [],
   "source": [
    "fight9 = fight(classifier=improved_rfc_classifier, name_pokemon1='Snorlax', name_pokemon2='Mewtwo')"
   ]
  },
  {
   "cell_type": "code",
   "execution_count": null,
   "metadata": {},
   "outputs": [],
   "source": [
    "fight10 = fight(classifier=improved_rfc_classifier, name_pokemon1='Kommo-o', name_pokemon2='Arceus')"
   ]
  },
  {
   "cell_type": "markdown",
   "metadata": {},
   "source": [
    "### Round 4\n",
    "![title](img/torneig/round_4.jpg)"
   ]
  },
  {
   "cell_type": "code",
   "execution_count": null,
   "metadata": {},
   "outputs": [],
   "source": [
    "fight10 = fight(classifier=improved_rfc_classifier, name_pokemon1='Mewtwo', name_pokemon2='Arceus')"
   ]
  },
  {
   "cell_type": "markdown",
   "metadata": {},
   "source": [
    "### Resultat del torneig\n",
    "\n",
    "![title](img/torneig/final_.jpg)\n",
    "\n",
    "### [Mewtwo](https://www.wikidex.net/wiki/Mewtwo#Biolog.C3.ADa)\n",
    "\n",
    "Aquest *Pokemon* es un dels primers creats per la ciència i es la conseqüència d'una producció genèticament realçada de Mew, donant com a resultat un *Pokemon* molt intel·ligent, de fet molt més intel·ligent que els humans. L'objectiu de la seva creació és crear el *Pokemon* més fort del món. \n",
    "\n",
    "\n",
    "Les seves habilitats psíquiques li permeten volar a través de levitació, comunicar-se telepàticament, bloquejar les habilitats especials d'altres *Pokemons*, hipnotitzar altres éssers, entre moltes altres. \n",
    "\n",
    "\n",
    "![title](img/torneig/winner.png)"
   ]
  },
  {
   "cell_type": "markdown",
   "metadata": {},
   "source": [
    "## 6. Conclusions\n",
    "\n",
    "L'anàlisi realitzat ha començat plantejant un conjunt de preguntes que es volien respondre. Seguidament, s'han descrit les dades de treball juntament amb el tipus de les variables. \n",
    "\n",
    "Llavors s'han buscat les variables amb valors mancants per veure si la falta de valor podria suposar un problema. Degut a la naturalesa d'aquestes variables i a la quantitat relativament grant de dades amb les que es treballava, s'ha decidit assignar un valor fora de rang a les variables afectades (*unknown* a *type2* i 0 a *weight_kg* i *heigh_m*).\n",
    "\n",
    "\n",
    "Un cop feta la integració i nateja s'ha fet un anàlisi descriptiu on:\n",
    "\n",
    "* S'ha parlat de la distribució dels *Pokemons* en base a la generació en que van apareixre per primera vegada.\n",
    "* S'han analitzat diferents factors dels *Pokemons* llegendaris\n",
    "* S'ha vist la distribució de tipus\n",
    "* S'han comparat els *Pokemons* amb doble tipus \n",
    "* S'ha analitzat el pes, alçada, velocitat, atac i defensa\n",
    "* S'ha contrastat comprovat la normalitat en la distribució de les variables: atac, punts de vida, defensa, velocitat, alçada i pes.\n",
    "* S'ha comprobat la variancia del pes entre els *Pokemons* de tipus foc i roca.\n",
    "* A partir de les variables: *Diff_attack*, *Diff_sp_attack*, *Diff_defense*, *Diff_sp_defense*, *Diff_hp*, *Diff_speed*, *First_pokemon_is_legendary*, *Second_pokemon_is_legendary* i *balance_effectivity* s'han creat diferents models predictius:\n",
    "    * Regressió logística.\n",
    "    * *KNN*\n",
    "    * *SVM*\n",
    "    * Classificació per *Naive bayes*\n",
    "    * Random Forest Classifier\n",
    "* A partir del millor model de classificació, s'han seleccionat 16 *Pokemons* per fer un torneig basat en 4 fases i on el sistema ha determinat que el guanyador seria el *Pokemon* ***Mewtwo***\n",
    "\n",
    "**Amb això s'ha pogut respondre a TOTES les preguntes!**\n",
    "\n",
    "## Recursos utilitzats\n",
    "\n",
    "* Trevor Hastie, Robert Tibshirani, Daniela Witten, Gareth James [2013] Introduction to Statistical Learning \n",
    "* Mireia Calvo González, Diego Oswaldo Pérez Trenard i Laia Subirats Maté - Introducció a la nateja i anàlisi de dades.\n",
    "* [5 Ways to Detect Outliers/Anomalies That Every Data Scientist Should Know (Python Code)](https://towardsdatascience.com/5-ways-to-detect-outliers-that-every-data-scientist-should-know-python-code-70a54335a623)\n",
    "* [ROC Curve](https://en.wikipedia.org/wiki/Receiver_operating_characteristic)\n",
    "* [Escalar les dades](https://towardsdatascience.com/scale-standardize-or-normalize-with-scikit-learn-6ccc7d176a02)\n",
    "\n",
    "# Contribucions\n",
    "\n",
    "|Contribució|Firma|\n",
    "|----------|-------------|\n",
    "|Investigació prèvia |OGA|\n",
    "|Redacció de les respostes|OGA|\n",
    "|Desenvolupament codi|OGA|"
   ]
  }
 ],
 "metadata": {
  "kernelspec": {
   "display_name": "Python 3",
   "language": "python",
   "name": "python3"
  },
  "language_info": {
   "codemirror_mode": {
    "name": "ipython",
    "version": 3
   },
   "file_extension": ".py",
   "mimetype": "text/x-python",
   "name": "python",
   "nbconvert_exporter": "python",
   "pygments_lexer": "ipython3",
   "version": "3.7.4"
  }
 },
 "nbformat": 4,
 "nbformat_minor": 2
}
